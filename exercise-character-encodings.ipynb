{
 "cells": [
  {
   "cell_type": "markdown",
   "id": "a1b5e61b",
   "metadata": {
    "papermill": {
     "duration": 0.007304,
     "end_time": "2022-10-03T18:15:18.801691",
     "exception": false,
     "start_time": "2022-10-03T18:15:18.794387",
     "status": "completed"
    },
    "tags": []
   },
   "source": [
    "**This notebook is an exercise in the [Data Cleaning](https://www.kaggle.com/learn/data-cleaning) course.  You can reference the tutorial at [this link](https://www.kaggle.com/alexisbcook/character-encodings).**\n",
    "\n",
    "---\n"
   ]
  },
  {
   "cell_type": "markdown",
   "id": "ccdf6018",
   "metadata": {
    "papermill": {
     "duration": 0.005785,
     "end_time": "2022-10-03T18:15:18.813713",
     "exception": false,
     "start_time": "2022-10-03T18:15:18.807928",
     "status": "completed"
    },
    "tags": []
   },
   "source": [
    "In this exercise, you'll apply what you learned in the **Character encodings** tutorial.\n",
    "\n",
    "# Setup\n",
    "\n",
    "The questions below will give you feedback on your work. Run the following cell to set up the feedback system."
   ]
  },
  {
   "cell_type": "code",
   "execution_count": 1,
   "id": "cf5a768f",
   "metadata": {
    "execution": {
     "iopub.execute_input": "2022-10-03T18:15:18.827836Z",
     "iopub.status.busy": "2022-10-03T18:15:18.827324Z",
     "iopub.status.idle": "2022-10-03T18:15:18.925308Z",
     "shell.execute_reply": "2022-10-03T18:15:18.924037Z"
    },
    "papermill": {
     "duration": 0.109183,
     "end_time": "2022-10-03T18:15:18.928928",
     "exception": false,
     "start_time": "2022-10-03T18:15:18.819745",
     "status": "completed"
    },
    "tags": []
   },
   "outputs": [
    {
     "name": "stdout",
     "output_type": "stream",
     "text": [
      "Setup Complete\n"
     ]
    }
   ],
   "source": [
    "from learntools.core import binder\n",
    "binder.bind(globals())\n",
    "from learntools.data_cleaning.ex4 import *\n",
    "print(\"Setup Complete\")"
   ]
  },
  {
   "cell_type": "markdown",
   "id": "2dbd6501",
   "metadata": {
    "papermill": {
     "duration": 0.006029,
     "end_time": "2022-10-03T18:15:18.942100",
     "exception": false,
     "start_time": "2022-10-03T18:15:18.936071",
     "status": "completed"
    },
    "tags": []
   },
   "source": [
    "# Get our environment set up\n",
    "\n",
    "The first thing we'll need to do is load in the libraries we'll be using."
   ]
  },
  {
   "cell_type": "code",
   "execution_count": 2,
   "id": "dde36d43",
   "metadata": {
    "execution": {
     "iopub.execute_input": "2022-10-03T18:15:18.956676Z",
     "iopub.status.busy": "2022-10-03T18:15:18.956006Z",
     "iopub.status.idle": "2022-10-03T18:15:18.961496Z",
     "shell.execute_reply": "2022-10-03T18:15:18.960207Z"
    },
    "papermill": {
     "duration": 0.015711,
     "end_time": "2022-10-03T18:15:18.964084",
     "exception": false,
     "start_time": "2022-10-03T18:15:18.948373",
     "status": "completed"
    },
    "tags": []
   },
   "outputs": [],
   "source": [
    "# modules we'll use\n",
    "import pandas as pd\n",
    "import numpy as np\n",
    "\n",
    "# helpful character encoding module\n",
    "import chardet\n",
    "\n",
    "# set seed for reproducibility\n",
    "np.random.seed(0)"
   ]
  },
  {
   "cell_type": "markdown",
   "id": "25d273b9",
   "metadata": {
    "papermill": {
     "duration": 0.006112,
     "end_time": "2022-10-03T18:15:18.976526",
     "exception": false,
     "start_time": "2022-10-03T18:15:18.970414",
     "status": "completed"
    },
    "tags": []
   },
   "source": [
    "# 1) What are encodings?\n",
    "\n",
    "You're working with a dataset composed of bytes.  Run the code cell below to print a sample entry."
   ]
  },
  {
   "cell_type": "code",
   "execution_count": 3,
   "id": "ebb49e11",
   "metadata": {
    "execution": {
     "iopub.execute_input": "2022-10-03T18:15:18.993325Z",
     "iopub.status.busy": "2022-10-03T18:15:18.992581Z",
     "iopub.status.idle": "2022-10-03T18:15:18.998438Z",
     "shell.execute_reply": "2022-10-03T18:15:18.997217Z"
    },
    "papermill": {
     "duration": 0.0181,
     "end_time": "2022-10-03T18:15:19.000869",
     "exception": false,
     "start_time": "2022-10-03T18:15:18.982769",
     "status": "completed"
    },
    "tags": []
   },
   "outputs": [
    {
     "name": "stdout",
     "output_type": "stream",
     "text": [
      "b'\\xa7A\\xa6n'\n",
      "data type: <class 'bytes'>\n"
     ]
    }
   ],
   "source": [
    "sample_entry = b'\\xa7A\\xa6n'\n",
    "print(sample_entry)\n",
    "print('data type:', type(sample_entry))"
   ]
  },
  {
   "cell_type": "code",
   "execution_count": 4,
   "id": "460935fb",
   "metadata": {
    "execution": {
     "iopub.execute_input": "2022-10-03T18:15:19.015261Z",
     "iopub.status.busy": "2022-10-03T18:15:19.014513Z",
     "iopub.status.idle": "2022-10-03T18:15:19.024534Z",
     "shell.execute_reply": "2022-10-03T18:15:19.023460Z"
    },
    "papermill": {
     "duration": 0.019756,
     "end_time": "2022-10-03T18:15:19.026823",
     "exception": false,
     "start_time": "2022-10-03T18:15:19.007067",
     "status": "completed"
    },
    "tags": []
   },
   "outputs": [
    {
     "data": {
      "text/plain": [
       "['__add__',\n",
       " '__class__',\n",
       " '__contains__',\n",
       " '__delattr__',\n",
       " '__dir__',\n",
       " '__doc__',\n",
       " '__eq__',\n",
       " '__format__',\n",
       " '__ge__',\n",
       " '__getattribute__',\n",
       " '__getitem__',\n",
       " '__getnewargs__',\n",
       " '__gt__',\n",
       " '__hash__',\n",
       " '__init__',\n",
       " '__init_subclass__',\n",
       " '__iter__',\n",
       " '__le__',\n",
       " '__len__',\n",
       " '__lt__',\n",
       " '__mod__',\n",
       " '__mul__',\n",
       " '__ne__',\n",
       " '__new__',\n",
       " '__reduce__',\n",
       " '__reduce_ex__',\n",
       " '__repr__',\n",
       " '__rmod__',\n",
       " '__rmul__',\n",
       " '__setattr__',\n",
       " '__sizeof__',\n",
       " '__str__',\n",
       " '__subclasshook__',\n",
       " 'capitalize',\n",
       " 'center',\n",
       " 'count',\n",
       " 'decode',\n",
       " 'endswith',\n",
       " 'expandtabs',\n",
       " 'find',\n",
       " 'fromhex',\n",
       " 'hex',\n",
       " 'index',\n",
       " 'isalnum',\n",
       " 'isalpha',\n",
       " 'isascii',\n",
       " 'isdigit',\n",
       " 'islower',\n",
       " 'isspace',\n",
       " 'istitle',\n",
       " 'isupper',\n",
       " 'join',\n",
       " 'ljust',\n",
       " 'lower',\n",
       " 'lstrip',\n",
       " 'maketrans',\n",
       " 'partition',\n",
       " 'replace',\n",
       " 'rfind',\n",
       " 'rindex',\n",
       " 'rjust',\n",
       " 'rpartition',\n",
       " 'rsplit',\n",
       " 'rstrip',\n",
       " 'split',\n",
       " 'splitlines',\n",
       " 'startswith',\n",
       " 'strip',\n",
       " 'swapcase',\n",
       " 'title',\n",
       " 'translate',\n",
       " 'upper',\n",
       " 'zfill']"
      ]
     },
     "execution_count": 4,
     "metadata": {},
     "output_type": "execute_result"
    }
   ],
   "source": [
    "dir(sample_entry)"
   ]
  },
  {
   "cell_type": "markdown",
   "id": "90949f1e",
   "metadata": {
    "papermill": {
     "duration": 0.00591,
     "end_time": "2022-10-03T18:15:19.039048",
     "exception": false,
     "start_time": "2022-10-03T18:15:19.033138",
     "status": "completed"
    },
    "tags": []
   },
   "source": [
    "You notice that it doesn't use the standard UTF-8 encoding. \n",
    "\n",
    "Use the next code cell to create a variable `new_entry` that changes the encoding from `\"big5-tw\"` to `\"utf-8\"`.  `new_entry` should have the bytes datatype."
   ]
  },
  {
   "cell_type": "code",
   "execution_count": 5,
   "id": "63a47d48",
   "metadata": {
    "execution": {
     "iopub.execute_input": "2022-10-03T18:15:19.053161Z",
     "iopub.status.busy": "2022-10-03T18:15:19.052701Z",
     "iopub.status.idle": "2022-10-03T18:15:19.059346Z",
     "shell.execute_reply": "2022-10-03T18:15:19.058174Z"
    },
    "papermill": {
     "duration": 0.01651,
     "end_time": "2022-10-03T18:15:19.061781",
     "exception": false,
     "start_time": "2022-10-03T18:15:19.045271",
     "status": "completed"
    },
    "tags": []
   },
   "outputs": [],
   "source": [
    "before = sample_entry.decode(\"big5-tw\")"
   ]
  },
  {
   "cell_type": "code",
   "execution_count": 6,
   "id": "c3ef95cc",
   "metadata": {
    "execution": {
     "iopub.execute_input": "2022-10-03T18:15:19.076310Z",
     "iopub.status.busy": "2022-10-03T18:15:19.075595Z",
     "iopub.status.idle": "2022-10-03T18:15:19.084772Z",
     "shell.execute_reply": "2022-10-03T18:15:19.083365Z"
    },
    "papermill": {
     "duration": 0.019235,
     "end_time": "2022-10-03T18:15:19.087384",
     "exception": false,
     "start_time": "2022-10-03T18:15:19.068149",
     "status": "completed"
    },
    "tags": []
   },
   "outputs": [
    {
     "data": {
      "application/javascript": [
       "parent.postMessage({\"jupyterEvent\": \"custom.exercise_interaction\", \"data\": {\"outcomeType\": 1, \"valueTowardsCompletion\": 0.3333333333333333, \"interactionType\": 1, \"questionType\": 1, \"questionId\": \"1_EncodingsIntro\", \"learnToolsVersion\": \"0.3.4\", \"failureMessage\": \"\", \"exceptionClass\": \"\", \"trace\": \"\"}}, \"*\")"
      ],
      "text/plain": [
       "<IPython.core.display.Javascript object>"
      ]
     },
     "metadata": {},
     "output_type": "display_data"
    },
    {
     "data": {
      "text/markdown": [
       "<span style=\"color:#33cc33\">Correct</span>"
      ],
      "text/plain": [
       "Correct"
      ]
     },
     "metadata": {},
     "output_type": "display_data"
    }
   ],
   "source": [
    "new_entry =  before.encode()\n",
    "# Check your answer\n",
    "q1.check()"
   ]
  },
  {
   "cell_type": "code",
   "execution_count": 7,
   "id": "51911ad3",
   "metadata": {
    "execution": {
     "iopub.execute_input": "2022-10-03T18:15:19.103311Z",
     "iopub.status.busy": "2022-10-03T18:15:19.102870Z",
     "iopub.status.idle": "2022-10-03T18:15:19.112413Z",
     "shell.execute_reply": "2022-10-03T18:15:19.111393Z"
    },
    "papermill": {
     "duration": 0.01951,
     "end_time": "2022-10-03T18:15:19.114579",
     "exception": false,
     "start_time": "2022-10-03T18:15:19.095069",
     "status": "completed"
    },
    "tags": []
   },
   "outputs": [
    {
     "data": {
      "application/javascript": [
       "parent.postMessage({\"jupyterEvent\": \"custom.exercise_interaction\", \"data\": {\"interactionType\": 3, \"questionType\": 1, \"questionId\": \"1_EncodingsIntro\", \"learnToolsVersion\": \"0.3.4\", \"valueTowardsCompletion\": 0.0, \"failureMessage\": \"\", \"exceptionClass\": \"\", \"trace\": \"\", \"outcomeType\": 4}}, \"*\")"
      ],
      "text/plain": [
       "<IPython.core.display.Javascript object>"
      ]
     },
     "metadata": {},
     "output_type": "display_data"
    },
    {
     "data": {
      "text/markdown": [
       "<span style=\"color:#33cc99\">Solution:</span> \n",
       "```python\n",
       "before = sample_entry.decode(\"big5-tw\")\n",
       "new_entry = before.encode()\n",
       "\n",
       "```"
      ],
      "text/plain": [
       "Solution: \n",
       "```python\n",
       "before = sample_entry.decode(\"big5-tw\")\n",
       "new_entry = before.encode()\n",
       "\n",
       "```"
      ]
     },
     "metadata": {},
     "output_type": "display_data"
    }
   ],
   "source": [
    "# Lines below will give you a hint or solution code\n",
    "#q1.hint()\n",
    "q1.solution()"
   ]
  },
  {
   "cell_type": "markdown",
   "id": "e98ccfe9",
   "metadata": {
    "papermill": {
     "duration": 0.006398,
     "end_time": "2022-10-03T18:15:19.127786",
     "exception": false,
     "start_time": "2022-10-03T18:15:19.121388",
     "status": "completed"
    },
    "tags": []
   },
   "source": [
    "# 2) Reading in files with encoding problems\n",
    "\n",
    "Use the code cell below to read in this file at path `\"../input/fatal-police-shootings-in-the-us/PoliceKillingsUS.csv\"`.  \n",
    "\n",
    "Figure out what the correct encoding should be and read in the file to a DataFrame `police_killings`."
   ]
  },
  {
   "cell_type": "code",
   "execution_count": 8,
   "id": "f0bea1c0",
   "metadata": {
    "execution": {
     "iopub.execute_input": "2022-10-03T18:15:19.142994Z",
     "iopub.status.busy": "2022-10-03T18:15:19.142570Z",
     "iopub.status.idle": "2022-10-03T18:15:19.170090Z",
     "shell.execute_reply": "2022-10-03T18:15:19.168875Z"
    },
    "papermill": {
     "duration": 0.037698,
     "end_time": "2022-10-03T18:15:19.172268",
     "exception": false,
     "start_time": "2022-10-03T18:15:19.134570",
     "status": "completed"
    },
    "tags": []
   },
   "outputs": [
    {
     "data": {
      "application/javascript": [
       "parent.postMessage({\"jupyterEvent\": \"custom.exercise_interaction\", \"data\": {\"outcomeType\": 1, \"valueTowardsCompletion\": 0.3333333333333333, \"interactionType\": 1, \"questionType\": 1, \"questionId\": \"2_ReadIn\", \"learnToolsVersion\": \"0.3.4\", \"failureMessage\": \"\", \"exceptionClass\": \"\", \"trace\": \"\"}}, \"*\")"
      ],
      "text/plain": [
       "<IPython.core.display.Javascript object>"
      ]
     },
     "metadata": {},
     "output_type": "display_data"
    },
    {
     "data": {
      "text/markdown": [
       "<span style=\"color:#33cc33\">Correct</span>"
      ],
      "text/plain": [
       "Correct"
      ]
     },
     "metadata": {},
     "output_type": "display_data"
    }
   ],
   "source": [
    "# TODO: Load in the DataFrame correctly.\n",
    "police_killings = pd.read_csv(\"../input/fatal-police-shootings-in-the-us/PoliceKillingsUS.csv\",encoding=\"Windows-1252\")\n",
    "\n",
    "# Check your answer\n",
    "q2.check()"
   ]
  },
  {
   "cell_type": "code",
   "execution_count": 9,
   "id": "4c0aa207",
   "metadata": {
    "execution": {
     "iopub.execute_input": "2022-10-03T18:15:19.188673Z",
     "iopub.status.busy": "2022-10-03T18:15:19.188296Z",
     "iopub.status.idle": "2022-10-03T18:15:19.194030Z",
     "shell.execute_reply": "2022-10-03T18:15:19.192823Z"
    },
    "papermill": {
     "duration": 0.017483,
     "end_time": "2022-10-03T18:15:19.196822",
     "exception": false,
     "start_time": "2022-10-03T18:15:19.179339",
     "status": "completed"
    },
    "tags": []
   },
   "outputs": [
    {
     "name": "stdout",
     "output_type": "stream",
     "text": [
      "<class 'str'>\n"
     ]
    }
   ],
   "source": [
    "print(type(\"police_killings\"))"
   ]
  },
  {
   "cell_type": "code",
   "execution_count": 10,
   "id": "f498f482",
   "metadata": {
    "execution": {
     "iopub.execute_input": "2022-10-03T18:15:19.212979Z",
     "iopub.status.busy": "2022-10-03T18:15:19.212548Z",
     "iopub.status.idle": "2022-10-03T18:15:19.220962Z",
     "shell.execute_reply": "2022-10-03T18:15:19.219723Z"
    },
    "papermill": {
     "duration": 0.019368,
     "end_time": "2022-10-03T18:15:19.223420",
     "exception": false,
     "start_time": "2022-10-03T18:15:19.204052",
     "status": "completed"
    },
    "tags": []
   },
   "outputs": [
    {
     "data": {
      "text/plain": [
       "['__add__',\n",
       " '__class__',\n",
       " '__contains__',\n",
       " '__delattr__',\n",
       " '__dir__',\n",
       " '__doc__',\n",
       " '__eq__',\n",
       " '__format__',\n",
       " '__ge__',\n",
       " '__getattribute__',\n",
       " '__getitem__',\n",
       " '__getnewargs__',\n",
       " '__gt__',\n",
       " '__hash__',\n",
       " '__init__',\n",
       " '__init_subclass__',\n",
       " '__iter__',\n",
       " '__le__',\n",
       " '__len__',\n",
       " '__lt__',\n",
       " '__mod__',\n",
       " '__mul__',\n",
       " '__ne__',\n",
       " '__new__',\n",
       " '__reduce__',\n",
       " '__reduce_ex__',\n",
       " '__repr__',\n",
       " '__rmod__',\n",
       " '__rmul__',\n",
       " '__setattr__',\n",
       " '__sizeof__',\n",
       " '__str__',\n",
       " '__subclasshook__',\n",
       " 'capitalize',\n",
       " 'casefold',\n",
       " 'center',\n",
       " 'count',\n",
       " 'encode',\n",
       " 'endswith',\n",
       " 'expandtabs',\n",
       " 'find',\n",
       " 'format',\n",
       " 'format_map',\n",
       " 'index',\n",
       " 'isalnum',\n",
       " 'isalpha',\n",
       " 'isascii',\n",
       " 'isdecimal',\n",
       " 'isdigit',\n",
       " 'isidentifier',\n",
       " 'islower',\n",
       " 'isnumeric',\n",
       " 'isprintable',\n",
       " 'isspace',\n",
       " 'istitle',\n",
       " 'isupper',\n",
       " 'join',\n",
       " 'ljust',\n",
       " 'lower',\n",
       " 'lstrip',\n",
       " 'maketrans',\n",
       " 'partition',\n",
       " 'replace',\n",
       " 'rfind',\n",
       " 'rindex',\n",
       " 'rjust',\n",
       " 'rpartition',\n",
       " 'rsplit',\n",
       " 'rstrip',\n",
       " 'split',\n",
       " 'splitlines',\n",
       " 'startswith',\n",
       " 'strip',\n",
       " 'swapcase',\n",
       " 'title',\n",
       " 'translate',\n",
       " 'upper',\n",
       " 'zfill']"
      ]
     },
     "execution_count": 10,
     "metadata": {},
     "output_type": "execute_result"
    }
   ],
   "source": [
    "dir(\"police_killings\")"
   ]
  },
  {
   "cell_type": "code",
   "execution_count": 11,
   "id": "f390d647",
   "metadata": {
    "execution": {
     "iopub.execute_input": "2022-10-03T18:15:19.239716Z",
     "iopub.status.busy": "2022-10-03T18:15:19.239283Z",
     "iopub.status.idle": "2022-10-03T18:15:19.255478Z",
     "shell.execute_reply": "2022-10-03T18:15:19.254035Z"
    },
    "papermill": {
     "duration": 0.027312,
     "end_time": "2022-10-03T18:15:19.258037",
     "exception": false,
     "start_time": "2022-10-03T18:15:19.230725",
     "status": "completed"
    },
    "tags": []
   },
   "outputs": [
    {
     "name": "stdout",
     "output_type": "stream",
     "text": [
      "{'encoding': 'ascii', 'confidence': 1.0, 'language': ''}\n"
     ]
    }
   ],
   "source": [
    "with open(\"../input/fatal-police-shootings-in-the-us/PoliceKillingsUS.csv\", 'rb') as rawdata:\n",
    "    result = chardet.detect(rawdata.read(10000))\n",
    "\n",
    "# check what the character encoding might be\n",
    "print(result)"
   ]
  },
  {
   "cell_type": "markdown",
   "id": "b36fd818",
   "metadata": {
    "papermill": {
     "duration": 0.006871,
     "end_time": "2022-10-03T18:15:19.272220",
     "exception": false,
     "start_time": "2022-10-03T18:15:19.265349",
     "status": "completed"
    },
    "tags": []
   },
   "source": [
    "Feel free to use any additional code cells for supplemental work.  To get credit for finishing this question, you'll need to run `q2.check()` and get a result of **Correct**."
   ]
  },
  {
   "cell_type": "code",
   "execution_count": 12,
   "id": "6bfa037a",
   "metadata": {
    "execution": {
     "iopub.execute_input": "2022-10-03T18:15:19.288739Z",
     "iopub.status.busy": "2022-10-03T18:15:19.288354Z",
     "iopub.status.idle": "2022-10-03T18:15:19.293318Z",
     "shell.execute_reply": "2022-10-03T18:15:19.292024Z"
    },
    "papermill": {
     "duration": 0.015373,
     "end_time": "2022-10-03T18:15:19.295369",
     "exception": false,
     "start_time": "2022-10-03T18:15:19.279996",
     "status": "completed"
    },
    "tags": []
   },
   "outputs": [],
   "source": [
    "# (Optional) Use this code cell for any additional work."
   ]
  },
  {
   "cell_type": "code",
   "execution_count": 13,
   "id": "72707b0e",
   "metadata": {
    "execution": {
     "iopub.execute_input": "2022-10-03T18:15:19.312504Z",
     "iopub.status.busy": "2022-10-03T18:15:19.312084Z",
     "iopub.status.idle": "2022-10-03T18:15:19.316762Z",
     "shell.execute_reply": "2022-10-03T18:15:19.315525Z"
    },
    "papermill": {
     "duration": 0.015879,
     "end_time": "2022-10-03T18:15:19.319113",
     "exception": false,
     "start_time": "2022-10-03T18:15:19.303234",
     "status": "completed"
    },
    "tags": []
   },
   "outputs": [],
   "source": [
    "# Lines below will give you a hint or solution code\n",
    "#q2.hint()\n",
    "#q2.solution()"
   ]
  },
  {
   "cell_type": "markdown",
   "id": "9f1cda77",
   "metadata": {
    "papermill": {
     "duration": 0.006897,
     "end_time": "2022-10-03T18:15:19.333232",
     "exception": false,
     "start_time": "2022-10-03T18:15:19.326335",
     "status": "completed"
    },
    "tags": []
   },
   "source": [
    "# 3) Saving your files with UTF-8 encoding\n",
    "\n",
    "Save a version of the police killings dataset to CSV with UTF-8 encoding.  Your answer will be marked correct after saving this file.  \n",
    "\n",
    "Note: When using the `to_csv()` method, supply only the name of the file (e.g., `\"my_file.csv\"`).  This saves the file at the filepath `\"/kaggle/working/my_file.csv\"`."
   ]
  },
  {
   "cell_type": "code",
   "execution_count": 14,
   "id": "0a725850",
   "metadata": {
    "execution": {
     "iopub.execute_input": "2022-10-03T18:15:19.349389Z",
     "iopub.status.busy": "2022-10-03T18:15:19.348990Z",
     "iopub.status.idle": "2022-10-03T18:15:19.367828Z",
     "shell.execute_reply": "2022-10-03T18:15:19.366271Z"
    },
    "papermill": {
     "duration": 0.03021,
     "end_time": "2022-10-03T18:15:19.370613",
     "exception": false,
     "start_time": "2022-10-03T18:15:19.340403",
     "status": "completed"
    },
    "tags": []
   },
   "outputs": [],
   "source": [
    "police_killings11 = pd.read_csv(\"../input/fatal-police-shootings-in-the-us/PoliceKillingsUS.csv\",encoding=\"Windows-1252\")\n"
   ]
  },
  {
   "cell_type": "code",
   "execution_count": null,
   "id": "2bd304db",
   "metadata": {
    "papermill": {
     "duration": 0.007044,
     "end_time": "2022-10-03T18:15:19.385290",
     "exception": false,
     "start_time": "2022-10-03T18:15:19.378246",
     "status": "completed"
    },
    "tags": []
   },
   "outputs": [],
   "source": []
  },
  {
   "cell_type": "code",
   "execution_count": 15,
   "id": "699e379b",
   "metadata": {
    "execution": {
     "iopub.execute_input": "2022-10-03T18:15:19.402310Z",
     "iopub.status.busy": "2022-10-03T18:15:19.401888Z",
     "iopub.status.idle": "2022-10-03T18:15:19.438013Z",
     "shell.execute_reply": "2022-10-03T18:15:19.436817Z"
    },
    "papermill": {
     "duration": 0.04805,
     "end_time": "2022-10-03T18:15:19.440685",
     "exception": false,
     "start_time": "2022-10-03T18:15:19.392635",
     "status": "completed"
    },
    "tags": []
   },
   "outputs": [
    {
     "data": {
      "application/javascript": [
       "parent.postMessage({\"jupyterEvent\": \"custom.exercise_interaction\", \"data\": {\"outcomeType\": 1, \"valueTowardsCompletion\": 0.3333333333333333, \"interactionType\": 1, \"questionType\": 2, \"questionId\": \"3_SaveCSV\", \"learnToolsVersion\": \"0.3.4\", \"failureMessage\": \"\", \"exceptionClass\": \"\", \"trace\": \"\"}}, \"*\")"
      ],
      "text/plain": [
       "<IPython.core.display.Javascript object>"
      ]
     },
     "metadata": {},
     "output_type": "display_data"
    },
    {
     "data": {
      "text/markdown": [
       "<span style=\"color:#33cc33\">Correct</span>"
      ],
      "text/plain": [
       "Correct"
      ]
     },
     "metadata": {},
     "output_type": "display_data"
    }
   ],
   "source": [
    "# TODO: Save the police killings dataset to CSV\n",
    "police_killings11.to_csv(\"my_file.csv\")\n",
    "#Check your answer\n",
    "q3.check()"
   ]
  },
  {
   "cell_type": "code",
   "execution_count": 16,
   "id": "0f6b95d0",
   "metadata": {
    "execution": {
     "iopub.execute_input": "2022-10-03T18:15:19.457282Z",
     "iopub.status.busy": "2022-10-03T18:15:19.456859Z",
     "iopub.status.idle": "2022-10-03T18:15:19.461617Z",
     "shell.execute_reply": "2022-10-03T18:15:19.460486Z"
    },
    "papermill": {
     "duration": 0.015343,
     "end_time": "2022-10-03T18:15:19.463637",
     "exception": false,
     "start_time": "2022-10-03T18:15:19.448294",
     "status": "completed"
    },
    "tags": []
   },
   "outputs": [],
   "source": [
    "# Lines below will give you a hint or solution code\n",
    "#q3.hint()\n",
    "#q3.solution()"
   ]
  },
  {
   "cell_type": "markdown",
   "id": "07952d08",
   "metadata": {
    "papermill": {
     "duration": 0.006987,
     "end_time": "2022-10-03T18:15:19.478105",
     "exception": false,
     "start_time": "2022-10-03T18:15:19.471118",
     "status": "completed"
    },
    "tags": []
   },
   "source": [
    "# (Optional) More practice\n",
    "\n",
    "Check out [this dataset of files in different character encodings](https://www.kaggle.com/rtatman/character-encoding-examples). Can you read in all the files with their original encodings and them save them out as UTF-8 files?\n",
    "\n",
    "If you have a file that's in UTF-8 but has just a couple of weird-looking characters in it, you can try out the [ftfy module](https://ftfy.readthedocs.io/en/latest/#) and see if it helps. \n",
    "\n",
    "# Keep going\n",
    "\n",
    "In the final lesson, learn how to [**clean up inconsistent text entries**](https://www.kaggle.com/alexisbcook/inconsistent-data-entry) in your dataset."
   ]
  },
  {
   "cell_type": "markdown",
   "id": "87315a44",
   "metadata": {
    "papermill": {
     "duration": 0.007245,
     "end_time": "2022-10-03T18:15:19.492688",
     "exception": false,
     "start_time": "2022-10-03T18:15:19.485443",
     "status": "completed"
    },
    "tags": []
   },
   "source": [
    "---\n",
    "\n",
    "\n",
    "\n",
    "\n",
    "*Have questions or comments? Visit the [course discussion forum](https://www.kaggle.com/learn/data-cleaning/discussion) to chat with other learners.*"
   ]
  }
 ],
 "metadata": {
  "kernelspec": {
   "display_name": "Python 3",
   "language": "python",
   "name": "python3"
  },
  "language_info": {
   "codemirror_mode": {
    "name": "ipython",
    "version": 3
   },
   "file_extension": ".py",
   "mimetype": "text/x-python",
   "name": "python",
   "nbconvert_exporter": "python",
   "pygments_lexer": "ipython3",
   "version": "3.7.12"
  },
  "papermill": {
   "default_parameters": {},
   "duration": 10.767683,
   "end_time": "2022-10-03T18:15:20.221082",
   "environment_variables": {},
   "exception": null,
   "input_path": "__notebook__.ipynb",
   "output_path": "__notebook__.ipynb",
   "parameters": {},
   "start_time": "2022-10-03T18:15:09.453399",
   "version": "2.3.4"
  }
 },
 "nbformat": 4,
 "nbformat_minor": 5
}
