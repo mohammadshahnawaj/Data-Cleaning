{
 "cells": [
  {
   "cell_type": "code",
   "execution_count": 15,
   "id": "19fd477e",
   "metadata": {},
   "outputs": [
    {
     "name": "stdout",
     "output_type": "stream",
     "text": [
      "enter your number for series10\n",
      "0\n",
      "1\n",
      "1\n",
      "2\n",
      "3\n",
      "5\n",
      "8\n",
      "13\n",
      "21\n",
      "34\n"
     ]
    }
   ],
   "source": [
    "#1,Display Fibonacci series up to 10 terms\n",
    "l1=int(input(\"enter your number for series\"))\n",
    "first=0\n",
    "second=1\n",
    "for i in range(l1):\n",
    "    print(first)\n",
    "    temp=first\n",
    "    first=second\n",
    "    second=temp+first"
   ]
  },
  {
   "cell_type": "code",
   "execution_count": 12,
   "id": "d7aa965e",
   "metadata": {},
   "outputs": [
    {
     "name": "stdout",
     "output_type": "stream",
     "text": [
      "34\n",
      "43\n",
      "45\n",
      "6\n",
      "8\n"
     ]
    }
   ],
   "source": [
    "#2,Use a loop to display elements from a given list present at odd index positions\n",
    "n=[12,34,56,43,23,45,65,6,7,8]\n",
    "for i in range(1,len(n)):\n",
    "    if i%2!=0:\n",
    "        print(n[i])"
   ]
  },
  {
   "cell_type": "code",
   "execution_count": 75,
   "id": "2a6879e7",
   "metadata": {},
   "outputs": [
    {
     "name": "stdout",
     "output_type": "stream",
     "text": [
      "4\n",
      "3\n",
      "2\n",
      "1\n",
      "0\n"
     ]
    }
   ],
   "source": [
    "#3,Create a recursive function\n",
    "def count(n):\n",
    "    print(n)\n",
    "    if n==0:\n",
    "        return\n",
    "    else:\n",
    "        count(n-1)\n",
    "count(4)        "
   ]
  },
  {
   "cell_type": "code",
   "execution_count": 9,
   "id": "5c8828e1",
   "metadata": {},
   "outputs": [
    {
     "name": "stdout",
     "output_type": "stream",
     "text": [
      "2\n",
      "5\n",
      "7\n",
      "9\n",
      "33\n"
     ]
    }
   ],
   "source": [
    "#4,Create a list by picking an odd-index item from the first list and even index items from the second\n",
    "list1=[2,34,5,6,7,8,9,10,33,44]\n",
    "for i in range(0,len(list1)):\n",
    "    if i%2==0:\n",
    "        print(list1[i])"
   ]
  },
  {
   "cell_type": "code",
   "execution_count": 5,
   "id": "1a7b968c",
   "metadata": {},
   "outputs": [
    {
     "name": "stdout",
     "output_type": "stream",
     "text": [
      "34\n",
      "6\n",
      "8\n",
      "10\n",
      "44\n"
     ]
    }
   ],
   "source": [
    "list1=[2,34,5,6,7,8,9,10,33,44]\n",
    "for i in range(1,len(list1)):\n",
    "    if i%2!=0:\n",
    "        print(list1[i])"
   ]
  },
  {
   "cell_type": "code",
   "execution_count": 41,
   "id": "692043fe",
   "metadata": {},
   "outputs": [
    {
     "name": "stdout",
     "output_type": "stream",
     "text": [
      "None\n"
     ]
    }
   ],
   "source": [
    "#5,Checks if one set is a subset or superset of another set. If found, delete all elements from that set\n",
    "\n",
    "s1={10,20,30,40,50}\n",
    "s2={10,20,30}\n",
    "if set(s2).issubset(s1) or set(s2).issuperset(s1):\n",
    "    s2=s2.clear()\n",
    "    print(s2)"
   ]
  },
  {
   "cell_type": "code",
   "execution_count": 78,
   "id": "a603fb1e",
   "metadata": {},
   "outputs": [
    {
     "ename": "SyntaxError",
     "evalue": "invalid syntax (2652368826.py, line 2)",
     "output_type": "error",
     "traceback": [
      "\u001b[1;36m  Input \u001b[1;32mIn [78]\u001b[1;36m\u001b[0m\n\u001b[1;33m    dict1={\"name\":\"Rajiv\",\"city\":\"Delhi\",\"country\"=\"india\"}\u001b[0m\n\u001b[1;37m                                                  ^\u001b[0m\n\u001b[1;31mSyntaxError\u001b[0m\u001b[1;31m:\u001b[0m invalid syntax\n"
     ]
    }
   ],
   "source": [
    "#6,Change value of a key in a nested dictionary\n",
    "dict1={\"name\":\"Rajiv\",\"city\":\"Delhi\",\"country\"=\"india\"}\n",
    "#ict1}\"name\":Raju\"]\n",
    "dict1(\"name\":\"raju\")"
   ]
  },
  {
   "cell_type": "code",
   "execution_count": 72,
   "id": "450af27e",
   "metadata": {},
   "outputs": [
    {
     "ename": "SyntaxError",
     "evalue": "invalid syntax (4042352011.py, line 1)",
     "output_type": "error",
     "traceback": [
      "\u001b[1;36m  Input \u001b[1;32mIn [72]\u001b[1;36m\u001b[0m\n\u001b[1;33m    dict1={\"name\":\"Rajiv\",\"city\":\"Delhi\",\"country\"=\"india\"}\u001b[0m\n\u001b[1;37m                                                  ^\u001b[0m\n\u001b[1;31mSyntaxError\u001b[0m\u001b[1;31m:\u001b[0m invalid syntax\n"
     ]
    }
   ],
   "source": [
    "dict1={\"name\":\"Rajiv\",\"city\":\"Delhi\",\"country\"=\"india\"}\n",
    "dict1.update([\"name\"=\"Rahul\"])\n"
   ]
  },
  {
   "cell_type": "code",
   "execution_count": 45,
   "id": "3631512c",
   "metadata": {},
   "outputs": [
    {
     "data": {
      "text/plain": [
       "array([[2, 3],\n",
       "       [4, 5],\n",
       "       [6, 7],\n",
       "       [8, 9]])"
      ]
     },
     "execution_count": 45,
     "metadata": {},
     "output_type": "execute_result"
    }
   ],
   "source": [
    "#7.Create a 4X2 integer array and Prints its attributes\n",
    "import numpy as np\n",
    "arr1=np.array([[2,3],[4,5],[6,7],[8,9]])\n",
    "arr1"
   ]
  },
  {
   "cell_type": "code",
   "execution_count": null,
   "id": "5c1657cf",
   "metadata": {},
   "outputs": [],
   "source": []
  },
  {
   "cell_type": "code",
   "execution_count": 68,
   "id": "e50295e1",
   "metadata": {},
   "outputs": [
    {
     "data": {
      "text/plain": [
       "array([[ 5,  6,  6,  7],\n",
       "       [64, 32,  1,  1],\n",
       "       [32, 12, 22,  2],\n",
       "       [55, 66, 77, 88],\n",
       "       [23, 45, 43, 25]])"
      ]
     },
     "execution_count": 68,
     "metadata": {},
     "output_type": "execute_result"
    }
   ],
   "source": [
    "#8,Following is the provided numPy array. Return array of items by taking the third column from all rows\n",
    "arr1=np.array([[2,4,5,6,6,7],[4,5,64,32,1,1],[34,54,32,12,22,2],[33,44,55,66,77,88],[22,21,23,45,43,25]])\n",
    "#arr1\n",
    "arr1[0:,2:]"
   ]
  },
  {
   "cell_type": "code",
   "execution_count": 128,
   "id": "425081d2",
   "metadata": {},
   "outputs": [
    {
     "name": "stdout",
     "output_type": "stream",
     "text": [
      "[[2 3 4 5]\n",
      " [4 5 6 7]\n",
      " [3 4 5 6]]\n",
      "\n",
      "[[34  5  6  7]\n",
      " [ 6  7  8  9]\n",
      " [ 8  9  8  9]]\n"
     ]
    }
   ],
   "source": [
    "#9,Create a result array by adding the following two NumPy arrays. Next, \n",
    "# modify the result array by calculating the square of each element\n",
    "arr1=np.array([[2,3,4,5],[4,5,6,7],[3,4,5,6]])\n",
    "arr2=np.array([[34,5,6,7],[6,7,8,9],[8,9,8,9]])\n",
    "print(arr1)\n",
    "print()\n",
    "print(arr2)"
   ]
  },
  {
   "cell_type": "code",
   "execution_count": 124,
   "id": "ed1b177d",
   "metadata": {},
   "outputs": [
    {
     "data": {
      "text/plain": [
       "array([[36,  8, 10, 12],\n",
       "       [10, 12, 14, 16],\n",
       "       [11, 13, 13, 15]])"
      ]
     },
     "execution_count": 124,
     "metadata": {},
     "output_type": "execute_result"
    }
   ],
   "source": [
    "result_array=arr1+arr2\n",
    "result_array"
   ]
  },
  {
   "cell_type": "code",
   "execution_count": 126,
   "id": "dd9b77b9",
   "metadata": {},
   "outputs": [
    {
     "name": "stdout",
     "output_type": "stream",
     "text": [
      "[1296   64  100  144]\n",
      "[100 144 196 256]\n",
      "[121 169 169 225]\n"
     ]
    }
   ],
   "source": [
    "for i in result_array:\n",
    "    print(i**2)"
   ]
  },
  {
   "cell_type": "code",
   "execution_count": 108,
   "id": "f93345fd",
   "metadata": {},
   "outputs": [
    {
     "name": "stdout",
     "output_type": "stream",
     "text": [
      "(5, 1)\n",
      "(2, 1)\n",
      "(4, 1)\n",
      "(3, 1)\n",
      "(5, 1)\n",
      "(2, 1)\n",
      "(4, 1)\n"
     ]
    }
   ],
   "source": [
    "# 10,Create a Python set such that it shows the element from both lists in a pair\n",
    "l1=[2,4,5,3,2,4,5]\n",
    "l2=[1,1,1,1,1,1,1]\n",
    "for i in l1:\n",
    "    for j in l2:\n",
    "        result=l1[i],l2[j]\n",
    "    print(result)        "
   ]
  },
  {
   "cell_type": "code",
   "execution_count": 56,
   "id": "a509340c",
   "metadata": {},
   "outputs": [
    {
     "data": {
      "text/plain": [
       "{12, 22, 25, 32}"
      ]
     },
     "execution_count": 56,
     "metadata": {},
     "output_type": "execute_result"
    }
   ],
   "source": [
    "#11.How to get the items of series A not present in series B?\n",
    "ser1={12,34,33,22,11,25,32}\n",
    "ser2={11,23,34,33}\n",
    "set(ser1.difference(ser2))"
   ]
  },
  {
   "cell_type": "code",
   "execution_count": null,
   "id": "2fd89081",
   "metadata": {},
   "outputs": [],
   "source": [
    "#12,How to keep only top 2 most frequent values as it is and replace everything else as ‘Other’?"
   ]
  },
  {
   "cell_type": "code",
   "execution_count": 116,
   "id": "f188488b",
   "metadata": {},
   "outputs": [
    {
     "name": "stdout",
     "output_type": "stream",
     "text": [
      "[2, 5, 5, 3, 2, 4, 6]\n"
     ]
    },
    {
     "ename": "TypeError",
     "evalue": "unsupported operand type(s) for -: 'list' and 'int'",
     "output_type": "error",
     "traceback": [
      "\u001b[1;31m---------------------------------------------------------------------------\u001b[0m",
      "\u001b[1;31mTypeError\u001b[0m                                 Traceback (most recent call last)",
      "Input \u001b[1;32mIn [116]\u001b[0m, in \u001b[0;36m<cell line: 2>\u001b[1;34m()\u001b[0m\n\u001b[0;32m      1\u001b[0m l1\u001b[38;5;241m=\u001b[39m[\u001b[38;5;241m2\u001b[39m,\u001b[38;5;241m5\u001b[39m,\u001b[38;5;241m5\u001b[39m,\u001b[38;5;241m3\u001b[39m,\u001b[38;5;241m2\u001b[39m,\u001b[38;5;241m4\u001b[39m,\u001b[38;5;241m6\u001b[39m]\n\u001b[1;32m----> 2\u001b[0m we\u001b[38;5;241m=\u001b[39m\u001b[43mcount\u001b[49m\u001b[43m(\u001b[49m\u001b[43ml1\u001b[49m\u001b[43m)\u001b[49m\n\u001b[0;32m      3\u001b[0m \u001b[38;5;28;01mfor\u001b[39;00m i \u001b[38;5;129;01min\u001b[39;00m \u001b[38;5;28mrange\u001b[39m(\u001b[38;5;241m0\u001b[39m,\u001b[38;5;28mlen\u001b[39m(l1)):\n\u001b[0;32m      4\u001b[0m     \u001b[38;5;28;01mfor\u001b[39;00m j \u001b[38;5;129;01min\u001b[39;00m \u001b[38;5;28mrange\u001b[39m(i\u001b[38;5;241m+\u001b[39m\u001b[38;5;241m1\u001b[39m, l1):\n",
      "Input \u001b[1;32mIn [75]\u001b[0m, in \u001b[0;36mcount\u001b[1;34m(n)\u001b[0m\n\u001b[0;32m      5\u001b[0m     \u001b[38;5;28;01mreturn\u001b[39;00m\n\u001b[0;32m      6\u001b[0m \u001b[38;5;28;01melse\u001b[39;00m:\n\u001b[1;32m----> 7\u001b[0m     count(\u001b[43mn\u001b[49m\u001b[38;5;241;43m-\u001b[39;49m\u001b[38;5;241;43m1\u001b[39;49m)\n",
      "\u001b[1;31mTypeError\u001b[0m: unsupported operand type(s) for -: 'list' and 'int'"
     ]
    }
   ],
   "source": [
    "l1=[2,5,5,3,2,4,6]\n",
    "count=0\n",
    "for i in range(0,len(l1)):\n",
    "    \n",
    "        print(i)"
   ]
  },
  {
   "cell_type": "code",
   "execution_count": null,
   "id": "49838943",
   "metadata": {},
   "outputs": [],
   "source": []
  },
  {
   "cell_type": "code",
   "execution_count": 89,
   "id": "87fe9a8d",
   "metadata": {},
   "outputs": [
    {
     "name": "stdout",
     "output_type": "stream",
     "text": [
      "3\n",
      "6\n",
      "8\n"
     ]
    }
   ],
   "source": [
    "#13, How to find the positions of numbers that are multiples of 3 from a series?\n",
    "list1=(2,34,5,6,7,8,9,10,33,44)\n",
    "for i in range(1,len(list1)):\n",
    "    if list1[i]%3==0:\n",
    "        print(i)"
   ]
  },
  {
   "cell_type": "code",
   "execution_count": 129,
   "id": "40a5e974",
   "metadata": {},
   "outputs": [
    {
     "name": "stdout",
     "output_type": "stream",
     "text": [
      "3\n",
      "6\n",
      "8\n"
     ]
    }
   ],
   "source": [
    "list1=[2,34,5,6,7,8,9,10,33,44]\n",
    "for i in range(1,len(list1)):\n",
    "    if list1[i]%3==0:\n",
    "        print(i)"
   ]
  },
  {
   "cell_type": "code",
   "execution_count": null,
   "id": "8a1af276",
   "metadata": {},
   "outputs": [],
   "source": []
  }
 ],
 "metadata": {
  "kernelspec": {
   "display_name": "Python 3 (ipykernel)",
   "language": "python",
   "name": "python3"
  },
  "language_info": {
   "codemirror_mode": {
    "name": "ipython",
    "version": 3
   },
   "file_extension": ".py",
   "mimetype": "text/x-python",
   "name": "python",
   "nbconvert_exporter": "python",
   "pygments_lexer": "ipython3",
   "version": "3.9.12"
  }
 },
 "nbformat": 4,
 "nbformat_minor": 5
}
