{
 "cells": [
  {
   "cell_type": "markdown",
   "id": "b7ae2d8f",
   "metadata": {
    "papermill": {
     "duration": 0.006747,
     "end_time": "2022-10-03T18:14:05.760890",
     "exception": false,
     "start_time": "2022-10-03T18:14:05.754143",
     "status": "completed"
    },
    "tags": []
   },
   "source": [
    "**This notebook is an exercise in the [Data Cleaning](https://www.kaggle.com/learn/data-cleaning) course.  You can reference the tutorial at [this link](https://www.kaggle.com/alexisbcook/scaling-and-normalization).**\n",
    "\n",
    "---\n"
   ]
  },
  {
   "cell_type": "markdown",
   "id": "5cd4b76a",
   "metadata": {
    "papermill": {
     "duration": 0.005209,
     "end_time": "2022-10-03T18:14:05.771808",
     "exception": false,
     "start_time": "2022-10-03T18:14:05.766599",
     "status": "completed"
    },
    "tags": []
   },
   "source": [
    "In this exercise, you'll apply what you learned in the **Scaling and normalization** tutorial.\n",
    "\n",
    "# Setup\n",
    "\n",
    "The questions below will give you feedback on your work. Run the following cell to set up the feedback system."
   ]
  },
  {
   "cell_type": "code",
   "execution_count": 1,
   "id": "f0dec30d",
   "metadata": {
    "execution": {
     "iopub.execute_input": "2022-10-03T18:14:05.786483Z",
     "iopub.status.busy": "2022-10-03T18:14:05.785245Z",
     "iopub.status.idle": "2022-10-03T18:14:09.867448Z",
     "shell.execute_reply": "2022-10-03T18:14:09.865982Z"
    },
    "papermill": {
     "duration": 4.092921,
     "end_time": "2022-10-03T18:14:09.870686",
     "exception": false,
     "start_time": "2022-10-03T18:14:05.777765",
     "status": "completed"
    },
    "tags": []
   },
   "outputs": [
    {
     "name": "stdout",
     "output_type": "stream",
     "text": [
      "Setup Complete\n"
     ]
    }
   ],
   "source": [
    "from learntools.core import binder\n",
    "binder.bind(globals())\n",
    "from learntools.data_cleaning.ex2 import *\n",
    "print(\"Setup Complete\")"
   ]
  },
  {
   "cell_type": "markdown",
   "id": "ac61e561",
   "metadata": {
    "papermill": {
     "duration": 0.005592,
     "end_time": "2022-10-03T18:14:09.882405",
     "exception": false,
     "start_time": "2022-10-03T18:14:09.876813",
     "status": "completed"
    },
    "tags": []
   },
   "source": [
    "# Get our environment set up\n",
    "\n",
    "To practice scaling and normalization, we're going to use a [dataset of Kickstarter campaigns](https://www.kaggle.com/kemical/kickstarter-projects). (Kickstarter is a website where people can ask people to invest in various projects and concept products.)\n",
    "\n",
    "The next code cell loads in the libraries and dataset we'll be using. "
   ]
  },
  {
   "cell_type": "code",
   "execution_count": 2,
   "id": "09dfc969",
   "metadata": {
    "execution": {
     "iopub.execute_input": "2022-10-03T18:14:09.896537Z",
     "iopub.status.busy": "2022-10-03T18:14:09.896095Z",
     "iopub.status.idle": "2022-10-03T18:14:11.542507Z",
     "shell.execute_reply": "2022-10-03T18:14:11.540877Z"
    },
    "papermill": {
     "duration": 1.657556,
     "end_time": "2022-10-03T18:14:11.545963",
     "exception": false,
     "start_time": "2022-10-03T18:14:09.888407",
     "status": "completed"
    },
    "tags": []
   },
   "outputs": [],
   "source": [
    "# modules we'll use\n",
    "import pandas as pd\n",
    "import numpy as np\n",
    "\n",
    "# for Box-Cox Transformation\n",
    "from scipy import stats\n",
    "\n",
    "# for min_max scaling\n",
    "from mlxtend.preprocessing import minmax_scaling\n",
    "\n",
    "# plotting modules\n",
    "import seaborn as sns\n",
    "import matplotlib.pyplot as plt\n",
    "\n",
    "# read in all our data\n",
    "kickstarters_2017 = pd.read_csv(\"../input/kickstarter-projects/ks-projects-201801.csv\")\n",
    "\n",
    "# set seed for reproducibility\n",
    "np.random.seed(0)"
   ]
  },
  {
   "cell_type": "markdown",
   "id": "c0668e15",
   "metadata": {
    "papermill": {
     "duration": 0.005365,
     "end_time": "2022-10-03T18:14:11.557343",
     "exception": false,
     "start_time": "2022-10-03T18:14:11.551978",
     "status": "completed"
    },
    "tags": []
   },
   "source": [
    "Let's start by scaling the goals of each campaign, which is how much money they were asking for.  After scaling, all values lie between 0 and 1."
   ]
  },
  {
   "cell_type": "code",
   "execution_count": 3,
   "id": "7f067d91",
   "metadata": {
    "execution": {
     "iopub.execute_input": "2022-10-03T18:14:11.570844Z",
     "iopub.status.busy": "2022-10-03T18:14:11.570459Z",
     "iopub.status.idle": "2022-10-03T18:14:11.615673Z",
     "shell.execute_reply": "2022-10-03T18:14:11.613894Z"
    },
    "papermill": {
     "duration": 0.055389,
     "end_time": "2022-10-03T18:14:11.618680",
     "exception": false,
     "start_time": "2022-10-03T18:14:11.563291",
     "status": "completed"
    },
    "tags": []
   },
   "outputs": [
    {
     "name": "stdout",
     "output_type": "stream",
     "text": [
      "Original data\n",
      "Preview:\n",
      "    usd_goal_real\n",
      "0        1533.95\n",
      "1       30000.00\n",
      "2       45000.00\n",
      "3        5000.00\n",
      "4       19500.00\n",
      "Minimum value: 0.01 \n",
      "Maximum value: 166361390.71\n",
      "______________________________\n",
      "\n",
      "Scaled data\n",
      "Preview:\n",
      "    usd_goal_real\n",
      "0       0.000009\n",
      "1       0.000180\n",
      "2       0.000270\n",
      "3       0.000030\n",
      "4       0.000117\n",
      "Minimum value: 0.0 \n",
      "Maximum value: 1.0\n"
     ]
    }
   ],
   "source": [
    "# select the usd_goal_real column\n",
    "original_data = pd.DataFrame(kickstarters_2017.usd_goal_real)\n",
    "\n",
    "# scale the goals from 0 to 1\n",
    "scaled_data = minmax_scaling(original_data, columns=['usd_goal_real'])\n",
    "\n",
    "print('Original data\\nPreview:\\n', original_data.head())\n",
    "print('Minimum value:', float(original_data.min()),\n",
    "      '\\nMaximum value:', float(original_data.max()))\n",
    "print('_'*30)\n",
    "\n",
    "print('\\nScaled data\\nPreview:\\n', scaled_data.head())\n",
    "print('Minimum value:', float(scaled_data.min()),\n",
    "      '\\nMaximum value:', float(scaled_data.max()))"
   ]
  },
  {
   "cell_type": "markdown",
   "id": "fb83099f",
   "metadata": {
    "papermill": {
     "duration": 0.005638,
     "end_time": "2022-10-03T18:14:11.630164",
     "exception": false,
     "start_time": "2022-10-03T18:14:11.624526",
     "status": "completed"
    },
    "tags": []
   },
   "source": [
    "# 1) Practice scaling\n",
    "\n",
    "We just scaled the \"usd_goal_real\" column. What about the \"goal\" column?\n",
    "\n",
    "Begin by running the code cell below to create a DataFrame `original_goal_data` containing the \"goal\" column."
   ]
  },
  {
   "cell_type": "code",
   "execution_count": 4,
   "id": "1075540a",
   "metadata": {
    "execution": {
     "iopub.execute_input": "2022-10-03T18:14:11.643851Z",
     "iopub.status.busy": "2022-10-03T18:14:11.643363Z",
     "iopub.status.idle": "2022-10-03T18:14:11.650866Z",
     "shell.execute_reply": "2022-10-03T18:14:11.649516Z"
    },
    "papermill": {
     "duration": 0.017459,
     "end_time": "2022-10-03T18:14:11.653367",
     "exception": false,
     "start_time": "2022-10-03T18:14:11.635908",
     "status": "completed"
    },
    "tags": []
   },
   "outputs": [],
   "source": [
    "# select the usd_goal_real column\n",
    "original_goal_data = pd.DataFrame(kickstarters_2017.goal)"
   ]
  },
  {
   "cell_type": "code",
   "execution_count": 5,
   "id": "84467713",
   "metadata": {
    "execution": {
     "iopub.execute_input": "2022-10-03T18:14:11.668210Z",
     "iopub.status.busy": "2022-10-03T18:14:11.667137Z",
     "iopub.status.idle": "2022-10-03T18:14:11.714450Z",
     "shell.execute_reply": "2022-10-03T18:14:11.712252Z"
    },
    "papermill": {
     "duration": 0.058536,
     "end_time": "2022-10-03T18:14:11.717857",
     "exception": false,
     "start_time": "2022-10-03T18:14:11.659321",
     "status": "completed"
    },
    "tags": []
   },
   "outputs": [
    {
     "name": "stdout",
     "output_type": "stream",
     "text": [
      "Original data\n",
      "Preview:\n",
      "       goal\n",
      "0   1000.0\n",
      "1  30000.0\n",
      "2  45000.0\n",
      "3   5000.0\n",
      "4  19500.0\n",
      "Minimum value: 0.01 \n",
      "Maximum value: 100000000.0\n",
      "______________________________\n",
      "\n",
      "Scaled data\n",
      "Preview:\n",
      "        goal\n",
      "0  0.000010\n",
      "1  0.000300\n",
      "2  0.000450\n",
      "3  0.000050\n",
      "4  0.000195\n",
      "Minimum value: 0.0 \n",
      "Maximum value: 1.0\n"
     ]
    }
   ],
   "source": [
    "original_goal_data = pd.DataFrame(kickstarters_2017.goal)\n",
    "\n",
    "# scale the goals from 0 to 1\n",
    "scaled_goal_data = minmax_scaling(original_goal_data, columns=['goal'])\n",
    "\n",
    "print('Original data\\nPreview:\\n', original_goal_data.head())\n",
    "print('Minimum value:', float(original_goal_data.min()),\n",
    "      '\\nMaximum value:', float(original_goal_data.max()))\n",
    "print('_'*30)\n",
    "\n",
    "print('\\nScaled data\\nPreview:\\n', scaled_goal_data.head())\n",
    "print('Minimum value:', float(scaled_goal_data.min()),\n",
    "      '\\nMaximum value:', float(scaled_goal_data.max()))"
   ]
  },
  {
   "cell_type": "markdown",
   "id": "d342f885",
   "metadata": {
    "papermill": {
     "duration": 0.007685,
     "end_time": "2022-10-03T18:14:11.732414",
     "exception": false,
     "start_time": "2022-10-03T18:14:11.724729",
     "status": "completed"
    },
    "tags": []
   },
   "source": [
    "Use `original_goal_data` to create a new DataFrame `scaled_goal_data` with values scaled between 0 and 1. You must use the `minmax_scaling()` function."
   ]
  },
  {
   "cell_type": "code",
   "execution_count": 6,
   "id": "a91969d0",
   "metadata": {
    "execution": {
     "iopub.execute_input": "2022-10-03T18:14:11.747887Z",
     "iopub.status.busy": "2022-10-03T18:14:11.747269Z",
     "iopub.status.idle": "2022-10-03T18:14:11.780138Z",
     "shell.execute_reply": "2022-10-03T18:14:11.778913Z"
    },
    "papermill": {
     "duration": 0.044034,
     "end_time": "2022-10-03T18:14:11.783163",
     "exception": false,
     "start_time": "2022-10-03T18:14:11.739129",
     "status": "completed"
    },
    "tags": []
   },
   "outputs": [
    {
     "data": {
      "application/javascript": [
       "parent.postMessage({\"jupyterEvent\": \"custom.exercise_interaction\", \"data\": {\"outcomeType\": 1, \"valueTowardsCompletion\": 0.3333333333333333, \"interactionType\": 1, \"questionType\": 1, \"questionId\": \"1_TryScaling\", \"learnToolsVersion\": \"0.3.4\", \"failureMessage\": \"\", \"exceptionClass\": \"\", \"trace\": \"\"}}, \"*\")"
      ],
      "text/plain": [
       "<IPython.core.display.Javascript object>"
      ]
     },
     "metadata": {},
     "output_type": "display_data"
    },
    {
     "data": {
      "text/markdown": [
       "<span style=\"color:#33cc33\">Correct</span>"
      ],
      "text/plain": [
       "Correct"
      ]
     },
     "metadata": {},
     "output_type": "display_data"
    }
   ],
   "source": [
    "# TODO: Your code here\n",
    "\n",
    "scaled_goal_data = minmax_scaling(original_goal_data, columns=['goal'])\n",
    "\n",
    "\n",
    "# Check your answer\n",
    "q1.check()"
   ]
  },
  {
   "cell_type": "code",
   "execution_count": 7,
   "id": "0ea870d7",
   "metadata": {
    "execution": {
     "iopub.execute_input": "2022-10-03T18:14:11.797781Z",
     "iopub.status.busy": "2022-10-03T18:14:11.797385Z",
     "iopub.status.idle": "2022-10-03T18:14:11.802838Z",
     "shell.execute_reply": "2022-10-03T18:14:11.801249Z"
    },
    "papermill": {
     "duration": 0.015774,
     "end_time": "2022-10-03T18:14:11.805351",
     "exception": false,
     "start_time": "2022-10-03T18:14:11.789577",
     "status": "completed"
    },
    "tags": []
   },
   "outputs": [],
   "source": [
    "# Lines below will give you a hint or solution code\n",
    "#q1.hint()\n",
    "#q1.solution()"
   ]
  },
  {
   "cell_type": "markdown",
   "id": "d2518eda",
   "metadata": {
    "papermill": {
     "duration": 0.005973,
     "end_time": "2022-10-03T18:14:11.817707",
     "exception": false,
     "start_time": "2022-10-03T18:14:11.811734",
     "status": "completed"
    },
    "tags": []
   },
   "source": [
    "# 2) Practice normalization\n",
    "\n",
    "Now you'll practice normalization. We begin by normalizing the amount of money pledged to each campaign."
   ]
  },
  {
   "cell_type": "code",
   "execution_count": 8,
   "id": "0d0387e2",
   "metadata": {
    "execution": {
     "iopub.execute_input": "2022-10-03T18:14:11.833594Z",
     "iopub.status.busy": "2022-10-03T18:14:11.833134Z",
     "iopub.status.idle": "2022-10-03T18:14:12.085843Z",
     "shell.execute_reply": "2022-10-03T18:14:12.084001Z"
    },
    "papermill": {
     "duration": 0.264221,
     "end_time": "2022-10-03T18:14:12.089038",
     "exception": false,
     "start_time": "2022-10-03T18:14:11.824817",
     "status": "completed"
    },
    "tags": []
   },
   "outputs": [
    {
     "name": "stdout",
     "output_type": "stream",
     "text": [
      "Original data\n",
      "Preview:\n",
      " 1     2421.0\n",
      "2      220.0\n",
      "3        1.0\n",
      "4     1283.0\n",
      "5    52375.0\n",
      "Name: usd_pledged_real, dtype: float64\n",
      "Minimum value: 0.45 \n",
      "Maximum value: 20338986.27\n",
      "______________________________\n",
      "\n",
      "Normalized data\n",
      "Preview:\n",
      " 1    10.165142\n",
      "2     6.468598\n",
      "3     0.000000\n",
      "4     9.129277\n",
      "5    15.836853\n",
      "Name: usd_pledged_real, dtype: float64\n",
      "Minimum value: -0.7779954122762203 \n",
      "Maximum value: 30.69054020451361\n"
     ]
    }
   ],
   "source": [
    "# get the index of all positive pledges (Box-Cox only takes positive values)\n",
    "index_of_positive_pledges = kickstarters_2017.usd_pledged_real > 0\n",
    "\n",
    "# get only positive pledges (using their indexes)\n",
    "positive_pledges = kickstarters_2017.usd_pledged_real.loc[index_of_positive_pledges]\n",
    "\n",
    "# normalize the pledges (w/ Box-Cox)\n",
    "normalized_pledges = pd.Series(stats.boxcox(positive_pledges)[0], \n",
    "                               name='usd_pledged_real', index=positive_pledges.index)\n",
    "\n",
    "print('Original data\\nPreview:\\n', positive_pledges.head())\n",
    "print('Minimum value:', float(positive_pledges.min()),\n",
    "      '\\nMaximum value:', float(positive_pledges.max()))\n",
    "print('_'*30)\n",
    "\n",
    "print('\\nNormalized data\\nPreview:\\n', normalized_pledges.head())\n",
    "print('Minimum value:', float(normalized_pledges.min()),\n",
    "      '\\nMaximum value:', float(normalized_pledges.max()))"
   ]
  },
  {
   "cell_type": "markdown",
   "id": "2b46a775",
   "metadata": {
    "papermill": {
     "duration": 0.006178,
     "end_time": "2022-10-03T18:14:12.101547",
     "exception": false,
     "start_time": "2022-10-03T18:14:12.095369",
     "status": "completed"
    },
    "tags": []
   },
   "source": [
    "The values have changed significantly with normalization!\n",
    "\n",
    "In the next code cell, you'll take a look at the distribution of the normalized data, where it should now resemble a normal distribution."
   ]
  },
  {
   "cell_type": "code",
   "execution_count": 9,
   "id": "3fdf9c57",
   "metadata": {
    "execution": {
     "iopub.execute_input": "2022-10-03T18:14:12.117988Z",
     "iopub.status.busy": "2022-10-03T18:14:12.115358Z",
     "iopub.status.idle": "2022-10-03T18:14:14.306621Z",
     "shell.execute_reply": "2022-10-03T18:14:14.305609Z"
    },
    "papermill": {
     "duration": 2.201988,
     "end_time": "2022-10-03T18:14:14.309680",
     "exception": false,
     "start_time": "2022-10-03T18:14:12.107692",
     "status": "completed"
    },
    "tags": []
   },
   "outputs": [
    {
     "data": {
      "image/png": "[encoded data removed]",
      "text/plain": [
       "<Figure size 432x288 with 1 Axes>"
      ]
     },
     "metadata": {
      "needs_background": "light"
     },
     "output_type": "display_data"
    }
   ],
   "source": [
    "# plot normalized data\n",
    "ax = sns.histplot(normalized_pledges, kde=True)\n",
    "ax.set_title(\"Normalized data\")\n",
    "plt.show()"
   ]
  },
  {
   "cell_type": "markdown",
   "id": "dc55bd7e",
   "metadata": {
    "papermill": {
     "duration": 0.007594,
     "end_time": "2022-10-03T18:14:14.324498",
     "exception": false,
     "start_time": "2022-10-03T18:14:14.316904",
     "status": "completed"
    },
    "tags": []
   },
   "source": [
    "We used the \"usd_pledged_real\" column. Follow the same process to normalize the \"pledged\" column. "
   ]
  },
  {
   "cell_type": "code",
   "execution_count": 10,
   "id": "e800f9e7",
   "metadata": {
    "execution": {
     "iopub.execute_input": "2022-10-03T18:14:14.341725Z",
     "iopub.status.busy": "2022-10-03T18:14:14.340434Z",
     "iopub.status.idle": "2022-10-03T18:14:14.703838Z",
     "shell.execute_reply": "2022-10-03T18:14:14.702206Z"
    },
    "papermill": {
     "duration": 0.375189,
     "end_time": "2022-10-03T18:14:14.706976",
     "exception": false,
     "start_time": "2022-10-03T18:14:14.331787",
     "status": "completed"
    },
    "tags": []
   },
   "outputs": [
    {
     "name": "stdout",
     "output_type": "stream",
     "text": [
      "Original data\n",
      "Preview:\n",
      " 1     2421.0\n",
      "2      220.0\n",
      "3        1.0\n",
      "4     1283.0\n",
      "5    52375.0\n",
      "Name: pledged, dtype: float64\n",
      "Minimum value: 1.0 \n",
      "Maximum value: 20338986.27\n",
      "______________________________\n",
      "\n",
      "Normalized data\n",
      "Preview:\n",
      " 1    10.013887\n",
      "2     6.403367\n",
      "3     0.000000\n",
      "4     9.005193\n",
      "5    15.499596\n",
      "Name: usd_pledged_real, dtype: float64\n",
      "Minimum value: 0.0 \n",
      "Maximum value: 29.63030787418848\n"
     ]
    }
   ],
   "source": [
    "# TODO: Your code here!\n",
    "# get the index of all positive pledges (Box-Cox only takes positive values)\n",
    "index_of_positive_pledges = kickstarters_2017.pledged > 0\n",
    "\n",
    "# get only positive pledges (using their indexes)\n",
    "positive_pledges = kickstarters_2017.pledged.loc[index_of_positive_pledges]\n",
    "\n",
    "# normalize the pledges (w/ Box-Cox)\n",
    "normalized_pledges = pd.Series(stats.boxcox(positive_pledges)[0], \n",
    "                               name='usd_pledged_real', index=positive_pledges.index)\n",
    "\n",
    "print('Original data\\nPreview:\\n', positive_pledges.head())\n",
    "print('Minimum value:', float(positive_pledges.min()),\n",
    "      '\\nMaximum value:', float(positive_pledges.max()))\n",
    "print('_'*30)\n",
    "\n",
    "print('\\nNormalized data\\nPreview:\\n', normalized_pledges.head())\n",
    "print('Minimum value:', float(normalized_pledges.min()),\n",
    "      '\\nMaximum value:', float(normalized_pledges.max()))"
   ]
  },
  {
   "cell_type": "markdown",
   "id": "7ae7fedc",
   "metadata": {
    "papermill": {
     "duration": 0.006703,
     "end_time": "2022-10-03T18:14:14.720841",
     "exception": false,
     "start_time": "2022-10-03T18:14:14.714138",
     "status": "completed"
    },
    "tags": []
   },
   "source": [
    "How does the normalized \"usd_pledged_real\" column look different from when we normalized the \"pledged\" column?  Or, do they look mostly the same?\n",
    "\n",
    "Once you have an answer, run the code cell below."
   ]
  },
  {
   "cell_type": "code",
   "execution_count": 11,
   "id": "6c6854ff",
   "metadata": {
    "execution": {
     "iopub.execute_input": "2022-10-03T18:14:14.737143Z",
     "iopub.status.busy": "2022-10-03T18:14:14.736655Z",
     "iopub.status.idle": "2022-10-03T18:14:16.814891Z",
     "shell.execute_reply": "2022-10-03T18:14:16.813605Z"
    },
    "papermill": {
     "duration": 2.089657,
     "end_time": "2022-10-03T18:14:16.817630",
     "exception": false,
     "start_time": "2022-10-03T18:14:14.727973",
     "status": "completed"
    },
    "tags": []
   },
   "outputs": [
    {
     "data": {
      "image/png": "[encoded data removed]",
      "text/plain": [
       "<Figure size 432x288 with 1 Axes>"
      ]
     },
     "metadata": {
      "needs_background": "light"
     },
     "output_type": "display_data"
    }
   ],
   "source": [
    "# plot normalized data\n",
    "ax = sns.histplot(normalized_pledges, kde=True)\n",
    "ax.set_title(\"Normalized data\")\n",
    "plt.show()"
   ]
  },
  {
   "cell_type": "code",
   "execution_count": 12,
   "id": "96536473",
   "metadata": {
    "execution": {
     "iopub.execute_input": "2022-10-03T18:14:16.835618Z",
     "iopub.status.busy": "2022-10-03T18:14:16.835152Z",
     "iopub.status.idle": "2022-10-03T18:14:16.844211Z",
     "shell.execute_reply": "2022-10-03T18:14:16.843095Z"
    },
    "papermill": {
     "duration": 0.021298,
     "end_time": "2022-10-03T18:14:16.846780",
     "exception": false,
     "start_time": "2022-10-03T18:14:16.825482",
     "status": "completed"
    },
    "tags": []
   },
   "outputs": [
    {
     "data": {
      "application/javascript": [
       "parent.postMessage({\"jupyterEvent\": \"custom.exercise_interaction\", \"data\": {\"outcomeType\": 1, \"valueTowardsCompletion\": 0.3333333333333333, \"interactionType\": 1, \"questionType\": 4, \"questionId\": \"2_TryNormalization\", \"learnToolsVersion\": \"0.3.4\", \"failureMessage\": \"\", \"exceptionClass\": \"\", \"trace\": \"\"}}, \"*\")"
      ],
      "text/plain": [
       "<IPython.core.display.Javascript object>"
      ]
     },
     "metadata": {},
     "output_type": "display_data"
    },
    {
     "data": {
      "text/markdown": [
       "<span style=\"color:#33cc33\">Correct:</span> \n",
       "\n",
       "The distributions in the normalized data look mostly the same."
      ],
      "text/plain": [
       "Correct: \n",
       "\n",
       "The distributions in the normalized data look mostly the same."
      ]
     },
     "metadata": {},
     "output_type": "display_data"
    }
   ],
   "source": [
    "# Check your answer (Run this code cell to receive credit!)\n",
    "# normalized \"usd_pledged_real\" column look mostly same from when we normalized the \"pledged\" column.\n",
    "q2.check()"
   ]
  },
  {
   "cell_type": "code",
   "execution_count": 13,
   "id": "f5a70598",
   "metadata": {
    "execution": {
     "iopub.execute_input": "2022-10-03T18:14:16.864686Z",
     "iopub.status.busy": "2022-10-03T18:14:16.863573Z",
     "iopub.status.idle": "2022-10-03T18:14:16.868041Z",
     "shell.execute_reply": "2022-10-03T18:14:16.867222Z"
    },
    "papermill": {
     "duration": 0.015881,
     "end_time": "2022-10-03T18:14:16.870212",
     "exception": false,
     "start_time": "2022-10-03T18:14:16.854331",
     "status": "completed"
    },
    "tags": []
   },
   "outputs": [],
   "source": [
    "# Line below will give you a hint\n",
    "#q2.hint()"
   ]
  },
  {
   "cell_type": "markdown",
   "id": "f6b53218",
   "metadata": {
    "papermill": {
     "duration": 0.007306,
     "end_time": "2022-10-03T18:14:16.885129",
     "exception": false,
     "start_time": "2022-10-03T18:14:16.877823",
     "status": "completed"
    },
    "tags": []
   },
   "source": [
    "# (Optional) More practice\n",
    "\n",
    "Try finding a new dataset and pretend you're preparing to perform a [regression analysis](https://www.kaggle.com/rtatman/the-5-day-regression-challenge). \n",
    "\n",
    "[These datasets are a good start!](https://www.kaggle.com/rtatman/datasets-for-regression-analysis)\n",
    "\n",
    "Pick three or four variables and decide if you need to normalize or scale any of them and, if you think you should, practice applying the correct technique.\n",
    "\n",
    "# Keep going\n",
    "\n",
    "In the next lesson, learn how to [**parse dates**](https://www.kaggle.com/alexisbcook/parsing-dates) in a dataset."
   ]
  },
  {
   "cell_type": "markdown",
   "id": "5398338a",
   "metadata": {
    "papermill": {
     "duration": 0.007346,
     "end_time": "2022-10-03T18:14:16.900064",
     "exception": false,
     "start_time": "2022-10-03T18:14:16.892718",
     "status": "completed"
    },
    "tags": []
   },
   "source": [
    "---\n",
    "\n",
    "\n",
    "\n",
    "\n",
    "*Have questions or comments? Visit the [course discussion forum](https://www.kaggle.com/learn/data-cleaning/discussion) to chat with other learners.*"
   ]
  }
 ],
 "metadata": {
  "kernelspec": {
   "display_name": "Python 3",
   "language": "python",
   "name": "python3"
  },
  "language_info": {
   "codemirror_mode": {
    "name": "ipython",
    "version": 3
   },
   "file_extension": ".py",
   "mimetype": "text/x-python",
   "name": "python",
   "nbconvert_exporter": "python",
   "pygments_lexer": "ipython3",
   "version": "3.7.12"
  },
  "papermill": {
   "default_parameters": {},
   "duration": 21.525132,
   "end_time": "2022-10-03T18:14:18.135264",
   "environment_variables": {},
   "exception": null,
   "input_path": "__notebook__.ipynb",
   "output_path": "__notebook__.ipynb",
   "parameters": {},
   "start_time": "2022-10-03T18:13:56.610132",
   "version": "2.3.4"
  }
 },
 "nbformat": 4,
 "nbformat_minor": 5
}
