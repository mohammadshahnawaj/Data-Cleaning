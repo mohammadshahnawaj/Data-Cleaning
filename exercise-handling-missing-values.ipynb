{
 "cells": [
  {
   "cell_type": "markdown",
   "id": "1d2a76ab",
   "metadata": {
    "papermill": {
     "duration": 0.009973,
     "end_time": "2022-09-30T17:05:54.631745",
     "exception": false,
     "start_time": "2022-09-30T17:05:54.621772",
     "status": "completed"
    },
    "tags": []
   },
   "source": [
    "**This notebook is an exercise in the [Data Cleaning](https://www.kaggle.com/learn/data-cleaning) course.  You can reference the tutorial at [this link](https://www.kaggle.com/alexisbcook/handling-missing-values).**\n",
    "\n",
    "---\n"
   ]
  },
  {
   "cell_type": "markdown",
   "id": "0f6039b3",
   "metadata": {
    "papermill": {
     "duration": 0.008509,
     "end_time": "2022-09-30T17:05:54.648987",
     "exception": false,
     "start_time": "2022-09-30T17:05:54.640478",
     "status": "completed"
    },
    "tags": []
   },
   "source": [
    "In this exercise, you'll apply what you learned in the **Handling missing values** tutorial.\n",
    "\n",
    "# Setup\n",
    "\n",
    "The questions below will give you feedback on your work. Run the following cell to set up the feedback system."
   ]
  },
  {
   "cell_type": "code",
   "execution_count": 1,
   "id": "67f76ee4",
   "metadata": {
    "execution": {
     "iopub.execute_input": "2022-09-30T17:05:54.668406Z",
     "iopub.status.busy": "2022-09-30T17:05:54.667941Z",
     "iopub.status.idle": "2022-09-30T17:05:59.605518Z",
     "shell.execute_reply": "2022-09-30T17:05:59.603999Z"
    },
    "papermill": {
     "duration": 4.950971,
     "end_time": "2022-09-30T17:05:59.608723",
     "exception": false,
     "start_time": "2022-09-30T17:05:54.657752",
     "status": "completed"
    },
    "tags": []
   },
   "outputs": [
    {
     "name": "stderr",
     "output_type": "stream",
     "text": [
      "/opt/conda/lib/python3.7/site-packages/ipykernel_launcher.py:3: DtypeWarning: Columns (22,32) have mixed types.Specify dtype option on import or set low_memory=False.\n",
      "  This is separate from the ipykernel package so we can avoid doing imports until\n"
     ]
    },
    {
     "name": "stdout",
     "output_type": "stream",
     "text": [
      "Setup Complete\n"
     ]
    }
   ],
   "source": [
    "from learntools.core import binder\n",
    "binder.bind(globals())\n",
    "from learntools.data_cleaning.ex1 import *\n",
    "print(\"Setup Complete\")"
   ]
  },
  {
   "cell_type": "markdown",
   "id": "8164db34",
   "metadata": {
    "papermill": {
     "duration": 0.009236,
     "end_time": "2022-09-30T17:05:59.627184",
     "exception": false,
     "start_time": "2022-09-30T17:05:59.617948",
     "status": "completed"
    },
    "tags": []
   },
   "source": [
    "# 1) Take a first look at the data\n",
    "\n",
    "Run the next code cell to load in the libraries and dataset you'll use to complete the exercise."
   ]
  },
  {
   "cell_type": "code",
   "execution_count": 2,
   "id": "b192efd1",
   "metadata": {
    "execution": {
     "iopub.execute_input": "2022-09-30T17:05:59.648991Z",
     "iopub.status.busy": "2022-09-30T17:05:59.647794Z",
     "iopub.status.idle": "2022-09-30T17:06:01.605521Z",
     "shell.execute_reply": "2022-09-30T17:06:01.603776Z"
    },
    "papermill": {
     "duration": 1.971088,
     "end_time": "2022-09-30T17:06:01.608474",
     "exception": false,
     "start_time": "2022-09-30T17:05:59.637386",
     "status": "completed"
    },
    "tags": []
   },
   "outputs": [
    {
     "name": "stderr",
     "output_type": "stream",
     "text": [
      "/opt/conda/lib/python3.7/site-packages/IPython/core/interactiveshell.py:3552: DtypeWarning: Columns (22,32) have mixed types.Specify dtype option on import or set low_memory=False.\n",
      "  exec(code_obj, self.user_global_ns, self.user_ns)\n"
     ]
    }
   ],
   "source": [
    "# modules we'll use\n",
    "import pandas as pd\n",
    "import numpy as np\n",
    "\n",
    "# read in all our data\n",
    "sf_permits = pd.read_csv(\"../input/building-permit-applications-data/Building_Permits.csv\")\n",
    "\n",
    "# set seed for reproducibility\n",
    "np.random.seed(0) "
   ]
  },
  {
   "cell_type": "markdown",
   "id": "7597be5a",
   "metadata": {
    "papermill": {
     "duration": 0.008173,
     "end_time": "2022-09-30T17:06:01.626787",
     "exception": false,
     "start_time": "2022-09-30T17:06:01.618614",
     "status": "completed"
    },
    "tags": []
   },
   "source": [
    "Use the code cell below to print the first five rows of the `sf_permits` DataFrame."
   ]
  },
  {
   "cell_type": "code",
   "execution_count": 3,
   "id": "d841056a",
   "metadata": {
    "execution": {
     "iopub.execute_input": "2022-09-30T17:06:01.646275Z",
     "iopub.status.busy": "2022-09-30T17:06:01.645820Z",
     "iopub.status.idle": "2022-09-30T17:06:01.689257Z",
     "shell.execute_reply": "2022-09-30T17:06:01.687657Z"
    },
    "papermill": {
     "duration": 0.057038,
     "end_time": "2022-09-30T17:06:01.692292",
     "exception": false,
     "start_time": "2022-09-30T17:06:01.635254",
     "status": "completed"
    },
    "tags": []
   },
   "outputs": [
    {
     "data": {
      "text/html": [
       "<div>\n",
       "<style scoped>\n",
       "    .dataframe tbody tr th:only-of-type {\n",
       "        vertical-align: middle;\n",
       "    }\n",
       "\n",
       "    .dataframe tbody tr th {\n",
       "        vertical-align: top;\n",
       "    }\n",
       "\n",
       "    .dataframe thead th {\n",
       "        text-align: right;\n",
       "    }\n",
       "</style>\n",
       "<table border=\"1\" class=\"dataframe\">\n",
       "  <thead>\n",
       "    <tr style=\"text-align: right;\">\n",
       "      <th></th>\n",
       "      <th>Permit Number</th>\n",
       "      <th>Permit Type</th>\n",
       "      <th>Permit Type Definition</th>\n",
       "      <th>Permit Creation Date</th>\n",
       "      <th>Block</th>\n",
       "      <th>Lot</th>\n",
       "      <th>Street Number</th>\n",
       "      <th>Street Number Suffix</th>\n",
       "      <th>Street Name</th>\n",
       "      <th>Street Suffix</th>\n",
       "      <th>...</th>\n",
       "      <th>Existing Construction Type</th>\n",
       "      <th>Existing Construction Type Description</th>\n",
       "      <th>Proposed Construction Type</th>\n",
       "      <th>Proposed Construction Type Description</th>\n",
       "      <th>Site Permit</th>\n",
       "      <th>Supervisor District</th>\n",
       "      <th>Neighborhoods - Analysis Boundaries</th>\n",
       "      <th>Zipcode</th>\n",
       "      <th>Location</th>\n",
       "      <th>Record ID</th>\n",
       "    </tr>\n",
       "  </thead>\n",
       "  <tbody>\n",
       "    <tr>\n",
       "      <th>0</th>\n",
       "      <td>201505065519</td>\n",
       "      <td>4</td>\n",
       "      <td>sign - erect</td>\n",
       "      <td>05/06/2015</td>\n",
       "      <td>0326</td>\n",
       "      <td>023</td>\n",
       "      <td>140</td>\n",
       "      <td>NaN</td>\n",
       "      <td>Ellis</td>\n",
       "      <td>St</td>\n",
       "      <td>...</td>\n",
       "      <td>3.0</td>\n",
       "      <td>constr type 3</td>\n",
       "      <td>NaN</td>\n",
       "      <td>NaN</td>\n",
       "      <td>NaN</td>\n",
       "      <td>3.0</td>\n",
       "      <td>Tenderloin</td>\n",
       "      <td>94102.0</td>\n",
       "      <td>(37.785719256680785, -122.40852313194863)</td>\n",
       "      <td>1380611233945</td>\n",
       "    </tr>\n",
       "    <tr>\n",
       "      <th>1</th>\n",
       "      <td>201604195146</td>\n",
       "      <td>4</td>\n",
       "      <td>sign - erect</td>\n",
       "      <td>04/19/2016</td>\n",
       "      <td>0306</td>\n",
       "      <td>007</td>\n",
       "      <td>440</td>\n",
       "      <td>NaN</td>\n",
       "      <td>Geary</td>\n",
       "      <td>St</td>\n",
       "      <td>...</td>\n",
       "      <td>3.0</td>\n",
       "      <td>constr type 3</td>\n",
       "      <td>NaN</td>\n",
       "      <td>NaN</td>\n",
       "      <td>NaN</td>\n",
       "      <td>3.0</td>\n",
       "      <td>Tenderloin</td>\n",
       "      <td>94102.0</td>\n",
       "      <td>(37.78733980600732, -122.41063199757738)</td>\n",
       "      <td>1420164406718</td>\n",
       "    </tr>\n",
       "    <tr>\n",
       "      <th>2</th>\n",
       "      <td>201605278609</td>\n",
       "      <td>3</td>\n",
       "      <td>additions alterations or repairs</td>\n",
       "      <td>05/27/2016</td>\n",
       "      <td>0595</td>\n",
       "      <td>203</td>\n",
       "      <td>1647</td>\n",
       "      <td>NaN</td>\n",
       "      <td>Pacific</td>\n",
       "      <td>Av</td>\n",
       "      <td>...</td>\n",
       "      <td>1.0</td>\n",
       "      <td>constr type 1</td>\n",
       "      <td>1.0</td>\n",
       "      <td>constr type 1</td>\n",
       "      <td>NaN</td>\n",
       "      <td>3.0</td>\n",
       "      <td>Russian Hill</td>\n",
       "      <td>94109.0</td>\n",
       "      <td>(37.7946573324287, -122.42232562979227)</td>\n",
       "      <td>1424856504716</td>\n",
       "    </tr>\n",
       "    <tr>\n",
       "      <th>3</th>\n",
       "      <td>201611072166</td>\n",
       "      <td>8</td>\n",
       "      <td>otc alterations permit</td>\n",
       "      <td>11/07/2016</td>\n",
       "      <td>0156</td>\n",
       "      <td>011</td>\n",
       "      <td>1230</td>\n",
       "      <td>NaN</td>\n",
       "      <td>Pacific</td>\n",
       "      <td>Av</td>\n",
       "      <td>...</td>\n",
       "      <td>5.0</td>\n",
       "      <td>wood frame (5)</td>\n",
       "      <td>5.0</td>\n",
       "      <td>wood frame (5)</td>\n",
       "      <td>NaN</td>\n",
       "      <td>3.0</td>\n",
       "      <td>Nob Hill</td>\n",
       "      <td>94109.0</td>\n",
       "      <td>(37.79595867909168, -122.41557405519474)</td>\n",
       "      <td>1443574295566</td>\n",
       "    </tr>\n",
       "    <tr>\n",
       "      <th>4</th>\n",
       "      <td>201611283529</td>\n",
       "      <td>6</td>\n",
       "      <td>demolitions</td>\n",
       "      <td>11/28/2016</td>\n",
       "      <td>0342</td>\n",
       "      <td>001</td>\n",
       "      <td>950</td>\n",
       "      <td>NaN</td>\n",
       "      <td>Market</td>\n",
       "      <td>St</td>\n",
       "      <td>...</td>\n",
       "      <td>3.0</td>\n",
       "      <td>constr type 3</td>\n",
       "      <td>NaN</td>\n",
       "      <td>NaN</td>\n",
       "      <td>NaN</td>\n",
       "      <td>6.0</td>\n",
       "      <td>Tenderloin</td>\n",
       "      <td>94102.0</td>\n",
       "      <td>(37.78315261897309, -122.40950883997789)</td>\n",
       "      <td>144548169992</td>\n",
       "    </tr>\n",
       "  </tbody>\n",
       "</table>\n",
       "<p>5 rows × 43 columns</p>\n",
       "</div>"
      ],
      "text/plain": [
       "  Permit Number  Permit Type            Permit Type Definition  \\\n",
       "0  201505065519            4                      sign - erect   \n",
       "1  201604195146            4                      sign - erect   \n",
       "2  201605278609            3  additions alterations or repairs   \n",
       "3  201611072166            8            otc alterations permit   \n",
       "4  201611283529            6                       demolitions   \n",
       "\n",
       "  Permit Creation Date Block  Lot  Street Number Street Number Suffix  \\\n",
       "0           05/06/2015  0326  023            140                  NaN   \n",
       "1           04/19/2016  0306  007            440                  NaN   \n",
       "2           05/27/2016  0595  203           1647                  NaN   \n",
       "3           11/07/2016  0156  011           1230                  NaN   \n",
       "4           11/28/2016  0342  001            950                  NaN   \n",
       "\n",
       "  Street Name Street Suffix  ...  Existing Construction Type  \\\n",
       "0       Ellis            St  ...                         3.0   \n",
       "1       Geary            St  ...                         3.0   \n",
       "2     Pacific            Av  ...                         1.0   \n",
       "3     Pacific            Av  ...                         5.0   \n",
       "4      Market            St  ...                         3.0   \n",
       "\n",
       "  Existing Construction Type Description Proposed Construction Type  \\\n",
       "0                          constr type 3                        NaN   \n",
       "1                          constr type 3                        NaN   \n",
       "2                          constr type 1                        1.0   \n",
       "3                         wood frame (5)                        5.0   \n",
       "4                          constr type 3                        NaN   \n",
       "\n",
       "  Proposed Construction Type Description Site Permit Supervisor District  \\\n",
       "0                                    NaN         NaN                 3.0   \n",
       "1                                    NaN         NaN                 3.0   \n",
       "2                          constr type 1         NaN                 3.0   \n",
       "3                         wood frame (5)         NaN                 3.0   \n",
       "4                                    NaN         NaN                 6.0   \n",
       "\n",
       "  Neighborhoods - Analysis Boundaries  Zipcode  \\\n",
       "0                          Tenderloin  94102.0   \n",
       "1                          Tenderloin  94102.0   \n",
       "2                        Russian Hill  94109.0   \n",
       "3                            Nob Hill  94109.0   \n",
       "4                          Tenderloin  94102.0   \n",
       "\n",
       "                                    Location      Record ID  \n",
       "0  (37.785719256680785, -122.40852313194863)  1380611233945  \n",
       "1   (37.78733980600732, -122.41063199757738)  1420164406718  \n",
       "2    (37.7946573324287, -122.42232562979227)  1424856504716  \n",
       "3   (37.79595867909168, -122.41557405519474)  1443574295566  \n",
       "4   (37.78315261897309, -122.40950883997789)   144548169992  \n",
       "\n",
       "[5 rows x 43 columns]"
      ]
     },
     "execution_count": 3,
     "metadata": {},
     "output_type": "execute_result"
    }
   ],
   "source": [
    "# TODO: Your code here!\n",
    "sf_permits.head()"
   ]
  },
  {
   "cell_type": "markdown",
   "id": "98d46d8d",
   "metadata": {
    "papermill": {
     "duration": 0.009897,
     "end_time": "2022-09-30T17:06:01.711519",
     "exception": false,
     "start_time": "2022-09-30T17:06:01.701622",
     "status": "completed"
    },
    "tags": []
   },
   "source": [
    "Does the dataset have any missing values?  Once you have an answer, run the code cell below to get credit for your work."
   ]
  },
  {
   "cell_type": "code",
   "execution_count": 4,
   "id": "0b12433d",
   "metadata": {
    "execution": {
     "iopub.execute_input": "2022-09-30T17:06:01.732461Z",
     "iopub.status.busy": "2022-09-30T17:06:01.731939Z",
     "iopub.status.idle": "2022-09-30T17:06:01.742206Z",
     "shell.execute_reply": "2022-09-30T17:06:01.740981Z"
    },
    "papermill": {
     "duration": 0.023968,
     "end_time": "2022-09-30T17:06:01.744724",
     "exception": false,
     "start_time": "2022-09-30T17:06:01.720756",
     "status": "completed"
    },
    "tags": []
   },
   "outputs": [
    {
     "data": {
      "application/javascript": [
       "parent.postMessage({\"jupyterEvent\": \"custom.exercise_interaction\", \"data\": {\"outcomeType\": 1, \"valueTowardsCompletion\": 0.16666666666666666, \"interactionType\": 1, \"questionType\": 4, \"questionId\": \"1_TakeFirstLook\", \"learnToolsVersion\": \"0.3.4\", \"failureMessage\": \"\", \"exceptionClass\": \"\", \"trace\": \"\"}}, \"*\")"
      ],
      "text/plain": [
       "<IPython.core.display.Javascript object>"
      ]
     },
     "metadata": {},
     "output_type": "display_data"
    },
    {
     "data": {
      "text/markdown": [
       "<span style=\"color:#33cc33\">Correct:</span> \n",
       "\n",
       "The first five rows of the data does show that several columns have missing values.  You can see this in the \"Street Number Suffix\", \"Proposed Construction Type\" and \"Site Permit\" columns, among others."
      ],
      "text/plain": [
       "Correct: \n",
       "\n",
       "The first five rows of the data does show that several columns have missing values.  You can see this in the \"Street Number Suffix\", \"Proposed Construction Type\" and \"Site Permit\" columns, among others."
      ]
     },
     "metadata": {},
     "output_type": "display_data"
    }
   ],
   "source": [
    "# Check your answer (Run this code cell to receive credit!)\n",
    "q1.check()"
   ]
  },
  {
   "cell_type": "code",
   "execution_count": 5,
   "id": "3de48932",
   "metadata": {
    "execution": {
     "iopub.execute_input": "2022-09-30T17:06:01.766751Z",
     "iopub.status.busy": "2022-09-30T17:06:01.766315Z",
     "iopub.status.idle": "2022-09-30T17:06:01.771208Z",
     "shell.execute_reply": "2022-09-30T17:06:01.769780Z"
    },
    "papermill": {
     "duration": 0.018785,
     "end_time": "2022-09-30T17:06:01.773744",
     "exception": false,
     "start_time": "2022-09-30T17:06:01.754959",
     "status": "completed"
    },
    "tags": []
   },
   "outputs": [],
   "source": [
    "# Line below will give you a hint\n",
    "#q1.hint()"
   ]
  },
  {
   "cell_type": "code",
   "execution_count": 6,
   "id": "cbc2f902",
   "metadata": {
    "execution": {
     "iopub.execute_input": "2022-09-30T17:06:01.794740Z",
     "iopub.status.busy": "2022-09-30T17:06:01.793870Z",
     "iopub.status.idle": "2022-09-30T17:06:01.802065Z",
     "shell.execute_reply": "2022-09-30T17:06:01.800533Z"
    },
    "papermill": {
     "duration": 0.021223,
     "end_time": "2022-09-30T17:06:01.804655",
     "exception": false,
     "start_time": "2022-09-30T17:06:01.783432",
     "status": "completed"
    },
    "tags": []
   },
   "outputs": [
    {
     "data": {
      "text/plain": [
       "(198900, 43)"
      ]
     },
     "execution_count": 6,
     "metadata": {},
     "output_type": "execute_result"
    }
   ],
   "source": [
    "sf_permits.shape"
   ]
  },
  {
   "cell_type": "code",
   "execution_count": 7,
   "id": "1fce44c9",
   "metadata": {
    "execution": {
     "iopub.execute_input": "2022-09-30T17:06:01.826333Z",
     "iopub.status.busy": "2022-09-30T17:06:01.825914Z",
     "iopub.status.idle": "2022-09-30T17:06:02.076479Z",
     "shell.execute_reply": "2022-09-30T17:06:02.075224Z"
    },
    "papermill": {
     "duration": 0.264894,
     "end_time": "2022-09-30T17:06:02.079722",
     "exception": false,
     "start_time": "2022-09-30T17:06:01.814828",
     "status": "completed"
    },
    "tags": []
   },
   "outputs": [
    {
     "data": {
      "text/plain": [
       "Permit Number                                  0\n",
       "Permit Type                                    0\n",
       "Permit Type Definition                         0\n",
       "Permit Creation Date                           0\n",
       "Block                                          0\n",
       "Lot                                            0\n",
       "Street Number                                  0\n",
       "Street Number Suffix                      196684\n",
       "Street Name                                    0\n",
       "Street Suffix                               2768\n",
       "Unit                                      169421\n",
       "Unit Suffix                               196939\n",
       "Description                                  290\n",
       "Current Status                                 0\n",
       "Current Status Date                            0\n",
       "Filed Date                                     0\n",
       "Issued Date                                14940\n",
       "Completed Date                            101709\n",
       "First Construction Document Date           14946\n",
       "Structural Notification                   191978\n",
       "Number of Existing Stories                 42784\n",
       "Number of Proposed Stories                 42868\n",
       "Voluntary Soft-Story Retrofit             198865\n",
       "Fire Only Permit                          180073\n",
       "Permit Expiration Date                     51880\n",
       "Estimated Cost                             38066\n",
       "Revised Cost                                6066\n",
       "Existing Use                               41114\n",
       "Existing Units                             51538\n",
       "Proposed Use                               42439\n",
       "Proposed Units                             50911\n",
       "Plansets                                   37309\n",
       "TIDF Compliance                           198898\n",
       "Existing Construction Type                 43366\n",
       "Existing Construction Type Description     43366\n",
       "Proposed Construction Type                 43162\n",
       "Proposed Construction Type Description     43162\n",
       "Site Permit                               193541\n",
       "Supervisor District                         1717\n",
       "Neighborhoods - Analysis Boundaries         1725\n",
       "Zipcode                                     1716\n",
       "Location                                    1700\n",
       "Record ID                                      0\n",
       "dtype: int64"
      ]
     },
     "execution_count": 7,
     "metadata": {},
     "output_type": "execute_result"
    }
   ],
   "source": [
    "sf_permits.isnull().sum()"
   ]
  },
  {
   "cell_type": "code",
   "execution_count": 8,
   "id": "0626e4f3",
   "metadata": {
    "execution": {
     "iopub.execute_input": "2022-09-30T17:06:02.101165Z",
     "iopub.status.busy": "2022-09-30T17:06:02.100768Z",
     "iopub.status.idle": "2022-09-30T17:06:02.109260Z",
     "shell.execute_reply": "2022-09-30T17:06:02.107471Z"
    },
    "papermill": {
     "duration": 0.022931,
     "end_time": "2022-09-30T17:06:02.112420",
     "exception": false,
     "start_time": "2022-09-30T17:06:02.089489",
     "status": "completed"
    },
    "tags": []
   },
   "outputs": [
    {
     "data": {
      "text/plain": [
       "8552700"
      ]
     },
     "execution_count": 8,
     "metadata": {},
     "output_type": "execute_result"
    }
   ],
   "source": [
    "total_values=np.product(sf_permits.shape)\n",
    "total_values"
   ]
  },
  {
   "cell_type": "code",
   "execution_count": 9,
   "id": "0411bf0c",
   "metadata": {
    "execution": {
     "iopub.execute_input": "2022-09-30T17:06:02.134565Z",
     "iopub.status.busy": "2022-09-30T17:06:02.133479Z",
     "iopub.status.idle": "2022-09-30T17:06:02.386046Z",
     "shell.execute_reply": "2022-09-30T17:06:02.384700Z"
    },
    "papermill": {
     "duration": 0.266079,
     "end_time": "2022-09-30T17:06:02.388815",
     "exception": false,
     "start_time": "2022-09-30T17:06:02.122736",
     "status": "completed"
    },
    "tags": []
   },
   "outputs": [
    {
     "data": {
      "text/plain": [
       "Permit Number                  0\n",
       "Permit Type                    0\n",
       "Permit Type Definition         0\n",
       "Permit Creation Date           0\n",
       "Block                          0\n",
       "Lot                            0\n",
       "Street Number                  0\n",
       "Street Number Suffix      196684\n",
       "Street Name                    0\n",
       "Street Suffix               2768\n",
       "dtype: int64"
      ]
     },
     "execution_count": 9,
     "metadata": {},
     "output_type": "execute_result"
    }
   ],
   "source": [
    "total_null_values=sf_permits.isnull().sum()\n",
    "total_null_values[0:10]"
   ]
  },
  {
   "cell_type": "code",
   "execution_count": 10,
   "id": "dbece2ca",
   "metadata": {
    "execution": {
     "iopub.execute_input": "2022-09-30T17:06:02.410811Z",
     "iopub.status.busy": "2022-09-30T17:06:02.409485Z",
     "iopub.status.idle": "2022-09-30T17:06:02.419222Z",
     "shell.execute_reply": "2022-09-30T17:06:02.417930Z"
    },
    "papermill": {
     "duration": 0.023678,
     "end_time": "2022-09-30T17:06:02.422216",
     "exception": false,
     "start_time": "2022-09-30T17:06:02.398538",
     "status": "completed"
    },
    "tags": []
   },
   "outputs": [
    {
     "data": {
      "text/plain": [
       "2245941"
      ]
     },
     "execution_count": 10,
     "metadata": {},
     "output_type": "execute_result"
    }
   ],
   "source": [
    "null_values_count=total_null_values.sum()\n",
    "null_values_count"
   ]
  },
  {
   "cell_type": "code",
   "execution_count": 11,
   "id": "d000f3a8",
   "metadata": {
    "execution": {
     "iopub.execute_input": "2022-09-30T17:06:02.444122Z",
     "iopub.status.busy": "2022-09-30T17:06:02.443102Z",
     "iopub.status.idle": "2022-09-30T17:06:02.451315Z",
     "shell.execute_reply": "2022-09-30T17:06:02.449911Z"
    },
    "papermill": {
     "duration": 0.021821,
     "end_time": "2022-09-30T17:06:02.453876",
     "exception": false,
     "start_time": "2022-09-30T17:06:02.432055",
     "status": "completed"
    },
    "tags": []
   },
   "outputs": [
    {
     "data": {
      "text/plain": [
       "26.26002315058403"
      ]
     },
     "execution_count": 11,
     "metadata": {},
     "output_type": "execute_result"
    }
   ],
   "source": [
    "percent_missing=(null_values_count/total_values)*100\n",
    "percent_missing"
   ]
  },
  {
   "cell_type": "markdown",
   "id": "bbba5b68",
   "metadata": {
    "papermill": {
     "duration": 0.009824,
     "end_time": "2022-09-30T17:06:02.473698",
     "exception": false,
     "start_time": "2022-09-30T17:06:02.463874",
     "status": "completed"
    },
    "tags": []
   },
   "source": [
    "# 2) How many missing data points do we have?\n",
    "\n",
    "What percentage of the values in the dataset are missing?  Your answer should be a number between 0 and 100.  (If 1/4 of the values in the dataset are missing, the answer is 25.)"
   ]
  },
  {
   "cell_type": "code",
   "execution_count": 12,
   "id": "8617734a",
   "metadata": {
    "execution": {
     "iopub.execute_input": "2022-09-30T17:06:02.495207Z",
     "iopub.status.busy": "2022-09-30T17:06:02.494759Z",
     "iopub.status.idle": "2022-09-30T17:06:02.505214Z",
     "shell.execute_reply": "2022-09-30T17:06:02.504069Z"
    },
    "papermill": {
     "duration": 0.0239,
     "end_time": "2022-09-30T17:06:02.507555",
     "exception": false,
     "start_time": "2022-09-30T17:06:02.483655",
     "status": "completed"
    },
    "tags": []
   },
   "outputs": [
    {
     "data": {
      "application/javascript": [
       "parent.postMessage({\"jupyterEvent\": \"custom.exercise_interaction\", \"data\": {\"outcomeType\": 1, \"valueTowardsCompletion\": 0.16666666666666666, \"interactionType\": 1, \"questionType\": 1, \"questionId\": \"2_PercentMissingValues\", \"learnToolsVersion\": \"0.3.4\", \"failureMessage\": \"\", \"exceptionClass\": \"\", \"trace\": \"\"}}, \"*\")"
      ],
      "text/plain": [
       "<IPython.core.display.Javascript object>"
      ]
     },
     "metadata": {},
     "output_type": "display_data"
    },
    {
     "data": {
      "text/markdown": [
       "<span style=\"color:#33cc33\">Correct</span>"
      ],
      "text/plain": [
       "Correct"
      ]
     },
     "metadata": {},
     "output_type": "display_data"
    }
   ],
   "source": [
    "# TODO: Your code here!\n",
    "percent_missing = 26.26002315058403\n",
    "\n",
    "# Check your answer\n",
    "q2.check()"
   ]
  },
  {
   "cell_type": "code",
   "execution_count": 13,
   "id": "a5c7a8bc",
   "metadata": {
    "execution": {
     "iopub.execute_input": "2022-09-30T17:06:02.530100Z",
     "iopub.status.busy": "2022-09-30T17:06:02.529642Z",
     "iopub.status.idle": "2022-09-30T17:06:02.534912Z",
     "shell.execute_reply": "2022-09-30T17:06:02.533469Z"
    },
    "papermill": {
     "duration": 0.019952,
     "end_time": "2022-09-30T17:06:02.538039",
     "exception": false,
     "start_time": "2022-09-30T17:06:02.518087",
     "status": "completed"
    },
    "tags": []
   },
   "outputs": [],
   "source": [
    "# Lines below will give you a hint or solution code\n",
    "#q2.hint()\n",
    "#q2.solution()"
   ]
  },
  {
   "cell_type": "markdown",
   "id": "d84dd459",
   "metadata": {
    "papermill": {
     "duration": 0.010008,
     "end_time": "2022-09-30T17:06:02.558971",
     "exception": false,
     "start_time": "2022-09-30T17:06:02.548963",
     "status": "completed"
    },
    "tags": []
   },
   "source": [
    "# 3) Figure out why the data is missing\n",
    "\n",
    "Look at the columns **\"Street Number Suffix\"** and **\"Zipcode\"** from the [San Francisco Building Permits dataset](https://www.kaggle.com/aparnashastry/building-permit-applications-data). Both of these contain missing values. \n",
    "- Which, if either, are missing because they don't exist? \n",
    "- Which, if either, are missing because they weren't recorded?  \n",
    "\n",
    "Once you have an answer, run the code cell below."
   ]
  },
  {
   "cell_type": "code",
   "execution_count": 14,
   "id": "c009ae31",
   "metadata": {
    "execution": {
     "iopub.execute_input": "2022-09-30T17:06:02.582203Z",
     "iopub.status.busy": "2022-09-30T17:06:02.580979Z",
     "iopub.status.idle": "2022-09-30T17:06:02.590678Z",
     "shell.execute_reply": "2022-09-30T17:06:02.589497Z"
    },
    "papermill": {
     "duration": 0.024032,
     "end_time": "2022-09-30T17:06:02.593330",
     "exception": false,
     "start_time": "2022-09-30T17:06:02.569298",
     "status": "completed"
    },
    "tags": []
   },
   "outputs": [
    {
     "data": {
      "application/javascript": [
       "parent.postMessage({\"jupyterEvent\": \"custom.exercise_interaction\", \"data\": {\"outcomeType\": 1, \"valueTowardsCompletion\": 0.16666666666666666, \"interactionType\": 1, \"questionType\": 4, \"questionId\": \"3_WhyDataMissing\", \"learnToolsVersion\": \"0.3.4\", \"failureMessage\": \"\", \"exceptionClass\": \"\", \"trace\": \"\"}}, \"*\")"
      ],
      "text/plain": [
       "<IPython.core.display.Javascript object>"
      ]
     },
     "metadata": {},
     "output_type": "display_data"
    },
    {
     "data": {
      "text/markdown": [
       "<span style=\"color:#33cc33\">Correct:</span> \n",
       "\n",
       "If a value in the \"Street Number Suffix\" column is missing, it is likely because it does not exist. If a value in the \"Zipcode\" column is missing, it was not recorded."
      ],
      "text/plain": [
       "Correct: \n",
       "\n",
       "If a value in the \"Street Number Suffix\" column is missing, it is likely because it does not exist. If a value in the \"Zipcode\" column is missing, it was not recorded."
      ]
     },
     "metadata": {},
     "output_type": "display_data"
    }
   ],
   "source": [
    "#Street Number Suffix: columns are missing and for \n",
    "#Zipcode: They weren't recorded (Run this code cell to receive credit!)\n",
    "\n",
    "q3.check()"
   ]
  },
  {
   "cell_type": "code",
   "execution_count": 15,
   "id": "3279b2a4",
   "metadata": {
    "execution": {
     "iopub.execute_input": "2022-09-30T17:06:02.616714Z",
     "iopub.status.busy": "2022-09-30T17:06:02.616070Z",
     "iopub.status.idle": "2022-09-30T17:06:02.621525Z",
     "shell.execute_reply": "2022-09-30T17:06:02.620198Z"
    },
    "papermill": {
     "duration": 0.020186,
     "end_time": "2022-09-30T17:06:02.624286",
     "exception": false,
     "start_time": "2022-09-30T17:06:02.604100",
     "status": "completed"
    },
    "tags": []
   },
   "outputs": [],
   "source": [
    "# Line below will give you a hint\n",
    "#q3.hint()"
   ]
  },
  {
   "cell_type": "markdown",
   "id": "8992a4e8",
   "metadata": {
    "papermill": {
     "duration": 0.01059,
     "end_time": "2022-09-30T17:06:02.645957",
     "exception": false,
     "start_time": "2022-09-30T17:06:02.635367",
     "status": "completed"
    },
    "tags": []
   },
   "source": [
    "# 4) Drop missing values: rows\n",
    "\n",
    "If you removed all of the rows of `sf_permits` with missing values, how many rows are left?\n",
    "\n",
    "**Note**: Do not change the value of `sf_permits` when checking this.  "
   ]
  },
  {
   "cell_type": "code",
   "execution_count": 16,
   "id": "6de73eff",
   "metadata": {
    "execution": {
     "iopub.execute_input": "2022-09-30T17:06:02.669028Z",
     "iopub.status.busy": "2022-09-30T17:06:02.668564Z",
     "iopub.status.idle": "2022-09-30T17:06:02.931408Z",
     "shell.execute_reply": "2022-09-30T17:06:02.929948Z"
    },
    "papermill": {
     "duration": 0.277696,
     "end_time": "2022-09-30T17:06:02.934328",
     "exception": false,
     "start_time": "2022-09-30T17:06:02.656632",
     "status": "completed"
    },
    "tags": []
   },
   "outputs": [
    {
     "data": {
      "text/html": [
       "<div>\n",
       "<style scoped>\n",
       "    .dataframe tbody tr th:only-of-type {\n",
       "        vertical-align: middle;\n",
       "    }\n",
       "\n",
       "    .dataframe tbody tr th {\n",
       "        vertical-align: top;\n",
       "    }\n",
       "\n",
       "    .dataframe thead th {\n",
       "        text-align: right;\n",
       "    }\n",
       "</style>\n",
       "<table border=\"1\" class=\"dataframe\">\n",
       "  <thead>\n",
       "    <tr style=\"text-align: right;\">\n",
       "      <th></th>\n",
       "      <th>Permit Number</th>\n",
       "      <th>Permit Type</th>\n",
       "      <th>Permit Type Definition</th>\n",
       "      <th>Permit Creation Date</th>\n",
       "      <th>Block</th>\n",
       "      <th>Lot</th>\n",
       "      <th>Street Number</th>\n",
       "      <th>Street Number Suffix</th>\n",
       "      <th>Street Name</th>\n",
       "      <th>Street Suffix</th>\n",
       "      <th>...</th>\n",
       "      <th>Existing Construction Type</th>\n",
       "      <th>Existing Construction Type Description</th>\n",
       "      <th>Proposed Construction Type</th>\n",
       "      <th>Proposed Construction Type Description</th>\n",
       "      <th>Site Permit</th>\n",
       "      <th>Supervisor District</th>\n",
       "      <th>Neighborhoods - Analysis Boundaries</th>\n",
       "      <th>Zipcode</th>\n",
       "      <th>Location</th>\n",
       "      <th>Record ID</th>\n",
       "    </tr>\n",
       "  </thead>\n",
       "  <tbody>\n",
       "  </tbody>\n",
       "</table>\n",
       "<p>0 rows × 43 columns</p>\n",
       "</div>"
      ],
      "text/plain": [
       "Empty DataFrame\n",
       "Columns: [Permit Number, Permit Type, Permit Type Definition, Permit Creation Date, Block, Lot, Street Number, Street Number Suffix, Street Name, Street Suffix, Unit, Unit Suffix, Description, Current Status, Current Status Date, Filed Date, Issued Date, Completed Date, First Construction Document Date, Structural Notification, Number of Existing Stories, Number of Proposed Stories, Voluntary Soft-Story Retrofit, Fire Only Permit, Permit Expiration Date, Estimated Cost, Revised Cost, Existing Use, Existing Units, Proposed Use, Proposed Units, Plansets, TIDF Compliance, Existing Construction Type, Existing Construction Type Description, Proposed Construction Type, Proposed Construction Type Description, Site Permit, Supervisor District, Neighborhoods - Analysis Boundaries, Zipcode, Location, Record ID]\n",
       "Index: []\n",
       "\n",
       "[0 rows x 43 columns]"
      ]
     },
     "execution_count": 16,
     "metadata": {},
     "output_type": "execute_result"
    }
   ],
   "source": [
    "# TODO: Your code here!\n",
    "dropped_rows=sf_permits.dropna(axis=0)\n",
    "dropped_rows"
   ]
  },
  {
   "cell_type": "markdown",
   "id": "056ad882",
   "metadata": {
    "papermill": {
     "duration": 0.010429,
     "end_time": "2022-09-30T17:06:02.955652",
     "exception": false,
     "start_time": "2022-09-30T17:06:02.945223",
     "status": "completed"
    },
    "tags": []
   },
   "source": [
    "Once you have an answer, run the code cell below."
   ]
  },
  {
   "cell_type": "code",
   "execution_count": 17,
   "id": "600dda8e",
   "metadata": {
    "execution": {
     "iopub.execute_input": "2022-09-30T17:06:02.979280Z",
     "iopub.status.busy": "2022-09-30T17:06:02.978877Z",
     "iopub.status.idle": "2022-09-30T17:06:02.987253Z",
     "shell.execute_reply": "2022-09-30T17:06:02.986306Z"
    },
    "papermill": {
     "duration": 0.022965,
     "end_time": "2022-09-30T17:06:02.989424",
     "exception": false,
     "start_time": "2022-09-30T17:06:02.966459",
     "status": "completed"
    },
    "tags": []
   },
   "outputs": [
    {
     "data": {
      "application/javascript": [
       "parent.postMessage({\"jupyterEvent\": \"custom.exercise_interaction\", \"data\": {\"outcomeType\": 1, \"valueTowardsCompletion\": 0.16666666666666666, \"interactionType\": 1, \"questionType\": 4, \"questionId\": \"4_DropMissingRows\", \"learnToolsVersion\": \"0.3.4\", \"failureMessage\": \"\", \"exceptionClass\": \"\", \"trace\": \"\"}}, \"*\")"
      ],
      "text/plain": [
       "<IPython.core.display.Javascript object>"
      ]
     },
     "metadata": {},
     "output_type": "display_data"
    },
    {
     "data": {
      "text/markdown": [
       "<span style=\"color:#33cc33\">Correct:</span> \n",
       "\n",
       "There are no rows remaining in the dataset!"
      ],
      "text/plain": [
       "Correct: \n",
       "\n",
       "There are no rows remaining in the dataset!"
      ]
     },
     "metadata": {},
     "output_type": "display_data"
    }
   ],
   "source": [
    "# Check your answer (Run this code cell to receive credit!)\n",
    "# 0 rows left in the dataset\n",
    "q4.check()"
   ]
  },
  {
   "cell_type": "code",
   "execution_count": 18,
   "id": "6fe1e5b8",
   "metadata": {
    "execution": {
     "iopub.execute_input": "2022-09-30T17:06:03.013877Z",
     "iopub.status.busy": "2022-09-30T17:06:03.013446Z",
     "iopub.status.idle": "2022-09-30T17:06:03.017828Z",
     "shell.execute_reply": "2022-09-30T17:06:03.016671Z"
    },
    "papermill": {
     "duration": 0.019507,
     "end_time": "2022-09-30T17:06:03.020378",
     "exception": false,
     "start_time": "2022-09-30T17:06:03.000871",
     "status": "completed"
    },
    "tags": []
   },
   "outputs": [],
   "source": [
    "# Line below will give you a hint\n",
    "#q4.hint()"
   ]
  },
  {
   "cell_type": "markdown",
   "id": "3e907bd0",
   "metadata": {
    "papermill": {
     "duration": 0.011684,
     "end_time": "2022-09-30T17:06:03.044947",
     "exception": false,
     "start_time": "2022-09-30T17:06:03.033263",
     "status": "completed"
    },
    "tags": []
   },
   "source": [
    "# 5) Drop missing values: columns\n",
    "\n",
    "Now try removing all the columns with empty values.  \n",
    "- Create a new DataFrame called `sf_permits_with_na_dropped` that has all of the columns with empty values removed.  \n",
    "- How many columns were removed from the original `sf_permits` DataFrame? Use this number to set the value of the `dropped_columns` variable below."
   ]
  },
  {
   "cell_type": "code",
   "execution_count": 19,
   "id": "df8a2f42",
   "metadata": {
    "execution": {
     "iopub.execute_input": "2022-09-30T17:06:03.068975Z",
     "iopub.status.busy": "2022-09-30T17:06:03.068555Z",
     "iopub.status.idle": "2022-09-30T17:06:03.331131Z",
     "shell.execute_reply": "2022-09-30T17:06:03.329848Z"
    },
    "papermill": {
     "duration": 0.277837,
     "end_time": "2022-09-30T17:06:03.333951",
     "exception": false,
     "start_time": "2022-09-30T17:06:03.056114",
     "status": "completed"
    },
    "tags": []
   },
   "outputs": [
    {
     "data": {
      "text/plain": [
       "12"
      ]
     },
     "execution_count": 19,
     "metadata": {},
     "output_type": "execute_result"
    }
   ],
   "source": [
    "sf_permits_with_na_dropped=sf_permits.dropna(axis=1)\n",
    "sf_permits_with_na_dropped.shape[1]"
   ]
  },
  {
   "cell_type": "code",
   "execution_count": 20,
   "id": "484929dc",
   "metadata": {
    "execution": {
     "iopub.execute_input": "2022-09-30T17:06:03.358433Z",
     "iopub.status.busy": "2022-09-30T17:06:03.358030Z",
     "iopub.status.idle": "2022-09-30T17:06:03.365505Z",
     "shell.execute_reply": "2022-09-30T17:06:03.364338Z"
    },
    "papermill": {
     "duration": 0.022756,
     "end_time": "2022-09-30T17:06:03.368134",
     "exception": false,
     "start_time": "2022-09-30T17:06:03.345378",
     "status": "completed"
    },
    "tags": []
   },
   "outputs": [
    {
     "data": {
      "text/plain": [
       "43"
      ]
     },
     "execution_count": 20,
     "metadata": {},
     "output_type": "execute_result"
    }
   ],
   "source": [
    "sf_permits.shape[1]"
   ]
  },
  {
   "cell_type": "code",
   "execution_count": 21,
   "id": "aa06a3ab",
   "metadata": {
    "execution": {
     "iopub.execute_input": "2022-09-30T17:06:03.393175Z",
     "iopub.status.busy": "2022-09-30T17:06:03.392746Z",
     "iopub.status.idle": "2022-09-30T17:06:03.400767Z",
     "shell.execute_reply": "2022-09-30T17:06:03.399656Z"
    },
    "papermill": {
     "duration": 0.023282,
     "end_time": "2022-09-30T17:06:03.403167",
     "exception": false,
     "start_time": "2022-09-30T17:06:03.379885",
     "status": "completed"
    },
    "tags": []
   },
   "outputs": [
    {
     "data": {
      "text/plain": [
       "31"
      ]
     },
     "execution_count": 21,
     "metadata": {},
     "output_type": "execute_result"
    }
   ],
   "source": [
    "dropped_columns=sf_permits.shape[1]-sf_permits_with_na_dropped.shape[1]\n",
    "dropped_columns"
   ]
  },
  {
   "cell_type": "code",
   "execution_count": 22,
   "id": "c875e585",
   "metadata": {
    "execution": {
     "iopub.execute_input": "2022-09-30T17:06:03.428876Z",
     "iopub.status.busy": "2022-09-30T17:06:03.427941Z",
     "iopub.status.idle": "2022-09-30T17:06:03.695650Z",
     "shell.execute_reply": "2022-09-30T17:06:03.694690Z"
    },
    "papermill": {
     "duration": 0.282951,
     "end_time": "2022-09-30T17:06:03.697867",
     "exception": false,
     "start_time": "2022-09-30T17:06:03.414916",
     "status": "completed"
    },
    "tags": []
   },
   "outputs": [
    {
     "data": {
      "application/javascript": [
       "parent.postMessage({\"jupyterEvent\": \"custom.exercise_interaction\", \"data\": {\"outcomeType\": 1, \"valueTowardsCompletion\": 0.16666666666666666, \"interactionType\": 1, \"questionType\": 1, \"questionId\": \"5_DropMissingCols\", \"learnToolsVersion\": \"0.3.4\", \"failureMessage\": \"\", \"exceptionClass\": \"\", \"trace\": \"\"}}, \"*\")"
      ],
      "text/plain": [
       "<IPython.core.display.Javascript object>"
      ]
     },
     "metadata": {},
     "output_type": "display_data"
    },
    {
     "data": {
      "text/markdown": [
       "<span style=\"color:#33cc33\">Correct</span>"
      ],
      "text/plain": [
       "Correct"
      ]
     },
     "metadata": {},
     "output_type": "display_data"
    }
   ],
   "source": [
    "# TODO: Your code here\n",
    "sf_permits_with_na_dropped = sf_permits.dropna(axis=1)\n",
    "sf_permits_with_na_dropped.shape[1]\n",
    "\n",
    "dropped_columns = sf_permits.shape[1]-sf_permits_with_na_dropped.shape[1]\n",
    "dropped_columns\n",
    "\n",
    "# Check your answer\n",
    "q5.check()"
   ]
  },
  {
   "cell_type": "code",
   "execution_count": 23,
   "id": "b08f9844",
   "metadata": {
    "execution": {
     "iopub.execute_input": "2022-09-30T17:06:03.722907Z",
     "iopub.status.busy": "2022-09-30T17:06:03.722455Z",
     "iopub.status.idle": "2022-09-30T17:06:03.727192Z",
     "shell.execute_reply": "2022-09-30T17:06:03.725903Z"
    },
    "papermill": {
     "duration": 0.02051,
     "end_time": "2022-09-30T17:06:03.729938",
     "exception": false,
     "start_time": "2022-09-30T17:06:03.709428",
     "status": "completed"
    },
    "tags": []
   },
   "outputs": [],
   "source": [
    "# Lines below will give you a hint or solution code\n",
    "#q5.hint()\n",
    "#q5.solution()"
   ]
  },
  {
   "cell_type": "markdown",
   "id": "2b027fd8",
   "metadata": {
    "papermill": {
     "duration": 0.012219,
     "end_time": "2022-09-30T17:06:03.754306",
     "exception": false,
     "start_time": "2022-09-30T17:06:03.742087",
     "status": "completed"
    },
    "tags": []
   },
   "source": [
    "# 6) Fill in missing values automatically\n",
    "\n",
    "Try replacing all the NaN's in the `sf_permits` data with the one that comes directly after it and then replacing any remaining NaN's with 0.  Set the result to a new DataFrame `sf_permits_with_na_imputed`."
   ]
  },
  {
   "cell_type": "code",
   "execution_count": 24,
   "id": "97208eb3",
   "metadata": {
    "execution": {
     "iopub.execute_input": "2022-09-30T17:06:03.781917Z",
     "iopub.status.busy": "2022-09-30T17:06:03.781481Z",
     "iopub.status.idle": "2022-09-30T17:06:04.940371Z",
     "shell.execute_reply": "2022-09-30T17:06:04.939178Z"
    },
    "papermill": {
     "duration": 1.175058,
     "end_time": "2022-09-30T17:06:04.943031",
     "exception": false,
     "start_time": "2022-09-30T17:06:03.767973",
     "status": "completed"
    },
    "tags": []
   },
   "outputs": [
    {
     "data": {
      "text/html": [
       "<div>\n",
       "<style scoped>\n",
       "    .dataframe tbody tr th:only-of-type {\n",
       "        vertical-align: middle;\n",
       "    }\n",
       "\n",
       "    .dataframe tbody tr th {\n",
       "        vertical-align: top;\n",
       "    }\n",
       "\n",
       "    .dataframe thead th {\n",
       "        text-align: right;\n",
       "    }\n",
       "</style>\n",
       "<table border=\"1\" class=\"dataframe\">\n",
       "  <thead>\n",
       "    <tr style=\"text-align: right;\">\n",
       "      <th></th>\n",
       "      <th>Permit Number</th>\n",
       "      <th>Permit Type</th>\n",
       "      <th>Permit Type Definition</th>\n",
       "      <th>Permit Creation Date</th>\n",
       "      <th>Block</th>\n",
       "      <th>Lot</th>\n",
       "      <th>Street Number</th>\n",
       "      <th>Street Number Suffix</th>\n",
       "      <th>Street Name</th>\n",
       "      <th>Street Suffix</th>\n",
       "      <th>...</th>\n",
       "      <th>Existing Construction Type</th>\n",
       "      <th>Existing Construction Type Description</th>\n",
       "      <th>Proposed Construction Type</th>\n",
       "      <th>Proposed Construction Type Description</th>\n",
       "      <th>Site Permit</th>\n",
       "      <th>Supervisor District</th>\n",
       "      <th>Neighborhoods - Analysis Boundaries</th>\n",
       "      <th>Zipcode</th>\n",
       "      <th>Location</th>\n",
       "      <th>Record ID</th>\n",
       "    </tr>\n",
       "  </thead>\n",
       "  <tbody>\n",
       "    <tr>\n",
       "      <th>0</th>\n",
       "      <td>201505065519</td>\n",
       "      <td>4</td>\n",
       "      <td>sign - erect</td>\n",
       "      <td>05/06/2015</td>\n",
       "      <td>0326</td>\n",
       "      <td>023</td>\n",
       "      <td>140</td>\n",
       "      <td>A</td>\n",
       "      <td>Ellis</td>\n",
       "      <td>St</td>\n",
       "      <td>...</td>\n",
       "      <td>3.0</td>\n",
       "      <td>constr type 3</td>\n",
       "      <td>1.0</td>\n",
       "      <td>constr type 1</td>\n",
       "      <td>Y</td>\n",
       "      <td>3.0</td>\n",
       "      <td>Tenderloin</td>\n",
       "      <td>94102.0</td>\n",
       "      <td>(37.785719256680785, -122.40852313194863)</td>\n",
       "      <td>1380611233945</td>\n",
       "    </tr>\n",
       "    <tr>\n",
       "      <th>1</th>\n",
       "      <td>201604195146</td>\n",
       "      <td>4</td>\n",
       "      <td>sign - erect</td>\n",
       "      <td>04/19/2016</td>\n",
       "      <td>0306</td>\n",
       "      <td>007</td>\n",
       "      <td>440</td>\n",
       "      <td>A</td>\n",
       "      <td>Geary</td>\n",
       "      <td>St</td>\n",
       "      <td>...</td>\n",
       "      <td>3.0</td>\n",
       "      <td>constr type 3</td>\n",
       "      <td>1.0</td>\n",
       "      <td>constr type 1</td>\n",
       "      <td>Y</td>\n",
       "      <td>3.0</td>\n",
       "      <td>Tenderloin</td>\n",
       "      <td>94102.0</td>\n",
       "      <td>(37.78733980600732, -122.41063199757738)</td>\n",
       "      <td>1420164406718</td>\n",
       "    </tr>\n",
       "    <tr>\n",
       "      <th>2</th>\n",
       "      <td>201605278609</td>\n",
       "      <td>3</td>\n",
       "      <td>additions alterations or repairs</td>\n",
       "      <td>05/27/2016</td>\n",
       "      <td>0595</td>\n",
       "      <td>203</td>\n",
       "      <td>1647</td>\n",
       "      <td>A</td>\n",
       "      <td>Pacific</td>\n",
       "      <td>Av</td>\n",
       "      <td>...</td>\n",
       "      <td>1.0</td>\n",
       "      <td>constr type 1</td>\n",
       "      <td>1.0</td>\n",
       "      <td>constr type 1</td>\n",
       "      <td>Y</td>\n",
       "      <td>3.0</td>\n",
       "      <td>Russian Hill</td>\n",
       "      <td>94109.0</td>\n",
       "      <td>(37.7946573324287, -122.42232562979227)</td>\n",
       "      <td>1424856504716</td>\n",
       "    </tr>\n",
       "    <tr>\n",
       "      <th>3</th>\n",
       "      <td>201611072166</td>\n",
       "      <td>8</td>\n",
       "      <td>otc alterations permit</td>\n",
       "      <td>11/07/2016</td>\n",
       "      <td>0156</td>\n",
       "      <td>011</td>\n",
       "      <td>1230</td>\n",
       "      <td>A</td>\n",
       "      <td>Pacific</td>\n",
       "      <td>Av</td>\n",
       "      <td>...</td>\n",
       "      <td>5.0</td>\n",
       "      <td>wood frame (5)</td>\n",
       "      <td>5.0</td>\n",
       "      <td>wood frame (5)</td>\n",
       "      <td>Y</td>\n",
       "      <td>3.0</td>\n",
       "      <td>Nob Hill</td>\n",
       "      <td>94109.0</td>\n",
       "      <td>(37.79595867909168, -122.41557405519474)</td>\n",
       "      <td>1443574295566</td>\n",
       "    </tr>\n",
       "    <tr>\n",
       "      <th>4</th>\n",
       "      <td>201611283529</td>\n",
       "      <td>6</td>\n",
       "      <td>demolitions</td>\n",
       "      <td>11/28/2016</td>\n",
       "      <td>0342</td>\n",
       "      <td>001</td>\n",
       "      <td>950</td>\n",
       "      <td>A</td>\n",
       "      <td>Market</td>\n",
       "      <td>St</td>\n",
       "      <td>...</td>\n",
       "      <td>3.0</td>\n",
       "      <td>constr type 3</td>\n",
       "      <td>1.0</td>\n",
       "      <td>constr type 1</td>\n",
       "      <td>Y</td>\n",
       "      <td>6.0</td>\n",
       "      <td>Tenderloin</td>\n",
       "      <td>94102.0</td>\n",
       "      <td>(37.78315261897309, -122.40950883997789)</td>\n",
       "      <td>144548169992</td>\n",
       "    </tr>\n",
       "    <tr>\n",
       "      <th>...</th>\n",
       "      <td>...</td>\n",
       "      <td>...</td>\n",
       "      <td>...</td>\n",
       "      <td>...</td>\n",
       "      <td>...</td>\n",
       "      <td>...</td>\n",
       "      <td>...</td>\n",
       "      <td>...</td>\n",
       "      <td>...</td>\n",
       "      <td>...</td>\n",
       "      <td>...</td>\n",
       "      <td>...</td>\n",
       "      <td>...</td>\n",
       "      <td>...</td>\n",
       "      <td>...</td>\n",
       "      <td>...</td>\n",
       "      <td>...</td>\n",
       "      <td>...</td>\n",
       "      <td>...</td>\n",
       "      <td>...</td>\n",
       "      <td>...</td>\n",
       "    </tr>\n",
       "    <tr>\n",
       "      <th>198895</th>\n",
       "      <td>M862628</td>\n",
       "      <td>8</td>\n",
       "      <td>otc alterations permit</td>\n",
       "      <td>12/05/2017</td>\n",
       "      <td>0113</td>\n",
       "      <td>017A</td>\n",
       "      <td>1228</td>\n",
       "      <td>0</td>\n",
       "      <td>Montgomery</td>\n",
       "      <td>St</td>\n",
       "      <td>...</td>\n",
       "      <td>5.0</td>\n",
       "      <td>wood frame (5)</td>\n",
       "      <td>5.0</td>\n",
       "      <td>wood frame (5)</td>\n",
       "      <td>0</td>\n",
       "      <td>0.0</td>\n",
       "      <td>0</td>\n",
       "      <td>0.0</td>\n",
       "      <td>0</td>\n",
       "      <td>1489337276729</td>\n",
       "    </tr>\n",
       "    <tr>\n",
       "      <th>198896</th>\n",
       "      <td>201712055595</td>\n",
       "      <td>8</td>\n",
       "      <td>otc alterations permit</td>\n",
       "      <td>12/05/2017</td>\n",
       "      <td>0271</td>\n",
       "      <td>014</td>\n",
       "      <td>580</td>\n",
       "      <td>0</td>\n",
       "      <td>Bush</td>\n",
       "      <td>St</td>\n",
       "      <td>...</td>\n",
       "      <td>5.0</td>\n",
       "      <td>wood frame (5)</td>\n",
       "      <td>5.0</td>\n",
       "      <td>wood frame (5)</td>\n",
       "      <td>0</td>\n",
       "      <td>0.0</td>\n",
       "      <td>0</td>\n",
       "      <td>0.0</td>\n",
       "      <td>0</td>\n",
       "      <td>1489462354993</td>\n",
       "    </tr>\n",
       "    <tr>\n",
       "      <th>198897</th>\n",
       "      <td>M863507</td>\n",
       "      <td>8</td>\n",
       "      <td>otc alterations permit</td>\n",
       "      <td>12/06/2017</td>\n",
       "      <td>4318</td>\n",
       "      <td>019</td>\n",
       "      <td>1568</td>\n",
       "      <td>0</td>\n",
       "      <td>Indiana</td>\n",
       "      <td>St</td>\n",
       "      <td>...</td>\n",
       "      <td>0.0</td>\n",
       "      <td>0</td>\n",
       "      <td>0.0</td>\n",
       "      <td>0</td>\n",
       "      <td>0</td>\n",
       "      <td>0.0</td>\n",
       "      <td>0</td>\n",
       "      <td>0.0</td>\n",
       "      <td>0</td>\n",
       "      <td>1489539379952</td>\n",
       "    </tr>\n",
       "    <tr>\n",
       "      <th>198898</th>\n",
       "      <td>M863747</td>\n",
       "      <td>8</td>\n",
       "      <td>otc alterations permit</td>\n",
       "      <td>12/06/2017</td>\n",
       "      <td>0298</td>\n",
       "      <td>029</td>\n",
       "      <td>795</td>\n",
       "      <td>0</td>\n",
       "      <td>Sutter</td>\n",
       "      <td>St</td>\n",
       "      <td>...</td>\n",
       "      <td>0.0</td>\n",
       "      <td>0</td>\n",
       "      <td>0.0</td>\n",
       "      <td>0</td>\n",
       "      <td>0</td>\n",
       "      <td>0.0</td>\n",
       "      <td>0</td>\n",
       "      <td>0.0</td>\n",
       "      <td>0</td>\n",
       "      <td>1489608233656</td>\n",
       "    </tr>\n",
       "    <tr>\n",
       "      <th>198899</th>\n",
       "      <td>M864287</td>\n",
       "      <td>8</td>\n",
       "      <td>otc alterations permit</td>\n",
       "      <td>12/07/2017</td>\n",
       "      <td>0160</td>\n",
       "      <td>006</td>\n",
       "      <td>838</td>\n",
       "      <td>0</td>\n",
       "      <td>Pacific</td>\n",
       "      <td>Av</td>\n",
       "      <td>...</td>\n",
       "      <td>0.0</td>\n",
       "      <td>0</td>\n",
       "      <td>0.0</td>\n",
       "      <td>0</td>\n",
       "      <td>0</td>\n",
       "      <td>0.0</td>\n",
       "      <td>0</td>\n",
       "      <td>0.0</td>\n",
       "      <td>0</td>\n",
       "      <td>1489796283803</td>\n",
       "    </tr>\n",
       "  </tbody>\n",
       "</table>\n",
       "<p>198900 rows × 43 columns</p>\n",
       "</div>"
      ],
      "text/plain": [
       "       Permit Number  Permit Type            Permit Type Definition  \\\n",
       "0       201505065519            4                      sign - erect   \n",
       "1       201604195146            4                      sign - erect   \n",
       "2       201605278609            3  additions alterations or repairs   \n",
       "3       201611072166            8            otc alterations permit   \n",
       "4       201611283529            6                       demolitions   \n",
       "...              ...          ...                               ...   \n",
       "198895       M862628            8            otc alterations permit   \n",
       "198896  201712055595            8            otc alterations permit   \n",
       "198897       M863507            8            otc alterations permit   \n",
       "198898       M863747            8            otc alterations permit   \n",
       "198899       M864287            8            otc alterations permit   \n",
       "\n",
       "       Permit Creation Date Block   Lot  Street Number Street Number Suffix  \\\n",
       "0                05/06/2015  0326   023            140                    A   \n",
       "1                04/19/2016  0306   007            440                    A   \n",
       "2                05/27/2016  0595   203           1647                    A   \n",
       "3                11/07/2016  0156   011           1230                    A   \n",
       "4                11/28/2016  0342   001            950                    A   \n",
       "...                     ...   ...   ...            ...                  ...   \n",
       "198895           12/05/2017  0113  017A           1228                    0   \n",
       "198896           12/05/2017  0271   014            580                    0   \n",
       "198897           12/06/2017  4318   019           1568                    0   \n",
       "198898           12/06/2017  0298   029            795                    0   \n",
       "198899           12/07/2017  0160   006            838                    0   \n",
       "\n",
       "       Street Name Street Suffix  ...  Existing Construction Type  \\\n",
       "0            Ellis            St  ...                         3.0   \n",
       "1            Geary            St  ...                         3.0   \n",
       "2          Pacific            Av  ...                         1.0   \n",
       "3          Pacific            Av  ...                         5.0   \n",
       "4           Market            St  ...                         3.0   \n",
       "...            ...           ...  ...                         ...   \n",
       "198895  Montgomery            St  ...                         5.0   \n",
       "198896        Bush            St  ...                         5.0   \n",
       "198897     Indiana            St  ...                         0.0   \n",
       "198898      Sutter            St  ...                         0.0   \n",
       "198899     Pacific            Av  ...                         0.0   \n",
       "\n",
       "       Existing Construction Type Description Proposed Construction Type  \\\n",
       "0                               constr type 3                        1.0   \n",
       "1                               constr type 3                        1.0   \n",
       "2                               constr type 1                        1.0   \n",
       "3                              wood frame (5)                        5.0   \n",
       "4                               constr type 3                        1.0   \n",
       "...                                       ...                        ...   \n",
       "198895                         wood frame (5)                        5.0   \n",
       "198896                         wood frame (5)                        5.0   \n",
       "198897                                      0                        0.0   \n",
       "198898                                      0                        0.0   \n",
       "198899                                      0                        0.0   \n",
       "\n",
       "       Proposed Construction Type Description Site Permit Supervisor District  \\\n",
       "0                               constr type 1           Y                 3.0   \n",
       "1                               constr type 1           Y                 3.0   \n",
       "2                               constr type 1           Y                 3.0   \n",
       "3                              wood frame (5)           Y                 3.0   \n",
       "4                               constr type 1           Y                 6.0   \n",
       "...                                       ...         ...                 ...   \n",
       "198895                         wood frame (5)           0                 0.0   \n",
       "198896                         wood frame (5)           0                 0.0   \n",
       "198897                                      0           0                 0.0   \n",
       "198898                                      0           0                 0.0   \n",
       "198899                                      0           0                 0.0   \n",
       "\n",
       "       Neighborhoods - Analysis Boundaries  Zipcode  \\\n",
       "0                               Tenderloin  94102.0   \n",
       "1                               Tenderloin  94102.0   \n",
       "2                             Russian Hill  94109.0   \n",
       "3                                 Nob Hill  94109.0   \n",
       "4                               Tenderloin  94102.0   \n",
       "...                                    ...      ...   \n",
       "198895                                   0      0.0   \n",
       "198896                                   0      0.0   \n",
       "198897                                   0      0.0   \n",
       "198898                                   0      0.0   \n",
       "198899                                   0      0.0   \n",
       "\n",
       "                                         Location      Record ID  \n",
       "0       (37.785719256680785, -122.40852313194863)  1380611233945  \n",
       "1        (37.78733980600732, -122.41063199757738)  1420164406718  \n",
       "2         (37.7946573324287, -122.42232562979227)  1424856504716  \n",
       "3        (37.79595867909168, -122.41557405519474)  1443574295566  \n",
       "4        (37.78315261897309, -122.40950883997789)   144548169992  \n",
       "...                                           ...            ...  \n",
       "198895                                          0  1489337276729  \n",
       "198896                                          0  1489462354993  \n",
       "198897                                          0  1489539379952  \n",
       "198898                                          0  1489608233656  \n",
       "198899                                          0  1489796283803  \n",
       "\n",
       "[198900 rows x 43 columns]"
      ]
     },
     "execution_count": 24,
     "metadata": {},
     "output_type": "execute_result"
    }
   ],
   "source": [
    "sf_permits.fillna(method='bfill',axis=0).fillna(0)\n"
   ]
  },
  {
   "cell_type": "code",
   "execution_count": 25,
   "id": "10455a2b",
   "metadata": {
    "execution": {
     "iopub.execute_input": "2022-09-30T17:06:04.970854Z",
     "iopub.status.busy": "2022-09-30T17:06:04.970432Z",
     "iopub.status.idle": "2022-09-30T17:06:05.910066Z",
     "shell.execute_reply": "2022-09-30T17:06:05.908767Z"
    },
    "papermill": {
     "duration": 0.956666,
     "end_time": "2022-09-30T17:06:05.912826",
     "exception": false,
     "start_time": "2022-09-30T17:06:04.956160",
     "status": "completed"
    },
    "tags": []
   },
   "outputs": [
    {
     "data": {
      "application/javascript": [
       "parent.postMessage({\"jupyterEvent\": \"custom.exercise_interaction\", \"data\": {\"outcomeType\": 1, \"valueTowardsCompletion\": 0.16666666666666666, \"interactionType\": 1, \"questionType\": 1, \"questionId\": \"6_ImputeAutomatically\", \"learnToolsVersion\": \"0.3.4\", \"failureMessage\": \"\", \"exceptionClass\": \"\", \"trace\": \"\"}}, \"*\")"
      ],
      "text/plain": [
       "<IPython.core.display.Javascript object>"
      ]
     },
     "metadata": {},
     "output_type": "display_data"
    },
    {
     "data": {
      "text/markdown": [
       "<span style=\"color:#33cc33\">Correct</span>"
      ],
      "text/plain": [
       "Correct"
      ]
     },
     "metadata": {},
     "output_type": "display_data"
    }
   ],
   "source": [
    "# TODO: Your code here\n",
    "sf_permits_with_na_imputed = sf_permits.fillna(method='bfill',axis=0).fillna(0)\n",
    "\n",
    "# Check your answer\n",
    "q6.check()"
   ]
  },
  {
   "cell_type": "code",
   "execution_count": 26,
   "id": "11f88fe7",
   "metadata": {
    "execution": {
     "iopub.execute_input": "2022-09-30T17:06:05.939730Z",
     "iopub.status.busy": "2022-09-30T17:06:05.938561Z",
     "iopub.status.idle": "2022-09-30T17:06:05.943438Z",
     "shell.execute_reply": "2022-09-30T17:06:05.942188Z"
    },
    "papermill": {
     "duration": 0.020839,
     "end_time": "2022-09-30T17:06:05.945906",
     "exception": false,
     "start_time": "2022-09-30T17:06:05.925067",
     "status": "completed"
    },
    "tags": []
   },
   "outputs": [],
   "source": [
    "# Lines below will give you a hint or solution code\n",
    "#q6.hint()\n",
    "#q6.solution()"
   ]
  },
  {
   "cell_type": "markdown",
   "id": "96793dc6",
   "metadata": {
    "papermill": {
     "duration": 0.011998,
     "end_time": "2022-09-30T17:06:05.970612",
     "exception": false,
     "start_time": "2022-09-30T17:06:05.958614",
     "status": "completed"
    },
    "tags": []
   },
   "source": [
    "# More practice\n",
    "\n",
    "If you're looking for more practice handling missing values:\n",
    "\n",
    "* Check out [this noteboook](https://www.kaggle.com/alexisbcook/missing-values) on handling missing values using scikit-learn's imputer. \n",
    "* Look back at the \"Zipcode\" column in the `sf_permits` dataset, which has some missing values. How would you go about figuring out what the actual zipcode of each address should be? (You might try using another dataset. You can search for datasets about San Fransisco on the [Datasets listing](https://www.kaggle.com/datasets).) \n",
    "\n",
    "# Keep going\n",
    "\n",
    "In the next lesson, learn how to [**apply scaling and normalization**](https://www.kaggle.com/alexisbcook/scaling-and-normalization) to transform your data."
   ]
  },
  {
   "cell_type": "markdown",
   "id": "adf9b02a",
   "metadata": {
    "papermill": {
     "duration": 0.011897,
     "end_time": "2022-09-30T17:06:05.995240",
     "exception": false,
     "start_time": "2022-09-30T17:06:05.983343",
     "status": "completed"
    },
    "tags": []
   },
   "source": [
    "---\n",
    "\n",
    "\n",
    "\n",
    "\n",
    "*Have questions or comments? Visit the [course discussion forum](https://www.kaggle.com/learn/data-cleaning/discussion) to chat with other learners.*"
   ]
  }
 ],
 "metadata": {
  "kernelspec": {
   "display_name": "Python 3",
   "language": "python",
   "name": "python3"
  },
  "language_info": {
   "codemirror_mode": {
    "name": "ipython",
    "version": 3
   },
   "file_extension": ".py",
   "mimetype": "text/x-python",
   "name": "python",
   "nbconvert_exporter": "python",
   "pygments_lexer": "ipython3",
   "version": "3.7.12"
  },
  "papermill": {
   "default_parameters": {},
   "duration": 22.059916,
   "end_time": "2022-09-30T17:06:06.831360",
   "environment_variables": {},
   "exception": null,
   "input_path": "__notebook__.ipynb",
   "output_path": "__notebook__.ipynb",
   "parameters": {},
   "start_time": "2022-09-30T17:05:44.771444",
   "version": "2.3.4"
  }
 },
 "nbformat": 4,
 "nbformat_minor": 5
}
